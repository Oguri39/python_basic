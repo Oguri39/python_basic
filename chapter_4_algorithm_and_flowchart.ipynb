{
 "cells": [
  {
   "cell_type": "markdown",
   "metadata": {},
   "source": [
    "<h1> Chương 4 - GIẢI THUẬT VÀ LƯU ĐỒ </h1>"
   ]
  },
  {
   "cell_type": "markdown",
   "metadata": {},
   "source": [
    "<h5> 1. Viết thuật giải nhập 1 số từ bàn phím và in ra bình phương của số đó nếu số đó là số dương. </h5>\n",
    "<p>Phân tích yêu cầu:</p>\n",
    "<ul>\n",
    "<li> INPUT: \n",
    "    <ul>\n",
    "        <li>Nhập 1 số từ bàn phím (n)</li>\n",
    "    </ul>\n",
    " </li>\n",
    "<li> PROCESS: \n",
    "    <ul>\n",
    "        <li>Kiểm tra n > 0</li>\n",
    "        <li>Nếu n > 0 => tính bình phương n</li>\n",
    "    </ul>\n",
    "</li>\n",
    "<li> OUTPUT:\n",
    "    <ul>\n",
    "        <li>Xuất kết quả bình phương n</li>\n",
    "    </ul>\n",
    "</li>\n",
    "</ul>\n"
   ]
  },
  {
   "cell_type": "markdown",
   "metadata": {},
   "source": [
    "![ex-1.png](./assets/chapter_4_algorithm_and_flowchart/ex-1.png)"
   ]
  },
  {
   "cell_type": "code",
   "execution_count": null,
   "metadata": {},
   "outputs": [],
   "source": [
    "n = float(input(\"Nhập 1 số n: \"))\n",
    "if n > 0:\n",
    "    result = n**2\n",
    "    print(\"Giá trị bình phương của \", n, \" là \", result)"
   ]
  },
  {
   "cell_type": "markdown",
   "metadata": {},
   "source": [
    "<h5>2. Viết thuật giải nhập từ bàn phím một số tự nhiên N và in ra các số nguyên trong phạm vi từ 1 đến N.</h5>\n",
    "<p>Phân tích yêu cầu:</p>\n",
    "<ul>\n",
    "<li> INPUT: \n",
    "    <ul>\n",
    "        <li>Nhập từ bàn phím một số tự nhiên N (n ép kiểu int)</li>\n",
    "    </ul>\n",
    " </li>\n",
    "<li> PROCESS: \n",
    "    <ul>\n",
    "        <li>Kiểm tra n là <span style=\"color:red\">số tự nhiên</span> (n > 0)</li>\n",
    "        <li>Nếu n < 0 => dừng chương trình</li>\n",
    "        <li>Nếu là số tự nhiên => <span style=\"color:red\">tìm</span> các số nguyên trong <span style=\"color:red\">phạm vi từ 1 đến N</span> (sử dụng vòng lặp for)</li>\n",
    "    </ul>\n",
    "</li>\n",
    "<li> OUTPUT:\n",
    "    <ul>\n",
    "        <li>Xuất ra các số nguyên trong phạm vi từ 1 đến N</li>\n",
    "    </ul>\n",
    "</li>\n",
    "</ul>"
   ]
  },
  {
   "cell_type": "markdown",
   "metadata": {},
   "source": [
    "![ex-2.png](./assets/chapter_4_algorithm_and_flowchart/ex-2.png)"
   ]
  },
  {
   "cell_type": "code",
   "execution_count": null,
   "metadata": {},
   "outputs": [],
   "source": [
    "n = int(input(\"Nhập số tự nhiên n: \"))\n",
    "if n > 0:\n",
    "    print(\"Các số nguyên trong phạm vi từ 1 đến N\")\n",
    "    for i in range(1, n+1):\n",
    "        print(i)\n",
    "else:\n",
    "    print(\"n phải là số tự nhiên\")"
   ]
  },
  {
   "cell_type": "markdown",
   "metadata": {},
   "source": [
    "<h5> 3. Viết thuật giải nhập từ bàn phím 2 số tự nhiên m, n (m < n) và in ra màn hình các số chia hết cho m trong khoảng từ 1 đến n.</h5>\n",
    "</h5> Hướng dẫn: Để kiểm tra xem một số x có chia hết cho m không ta dùng biểu thức kiểm tra X MOD M=0. Nếu biểu thức này là đúng thì x chia hết cho m. </h5>\n",
    "<p>Phân tích yêu cầu:</p>\n",
    "<ul>\n",
    "<li> INPUT: \n",
    "    <ul>\n",
    "        <li>Nhập 2 <span style=\"color:red\">số tự nhiên</span> m, n (m < n) (m, n ép kiểu int)</li>\n",
    "    </ul>\n",
    " </li>\n",
    "<li> PROCESS: \n",
    "    <ul>\n",
    "        <li>Kiểm tra m, n > 0</li>\n",
    "        <li>Nếu m, n < 0 => dừng chương trình</li>\n",
    "        <li>Kiểm tra m < n</li>\n",
    "        <li>Nếu m > n => dừng chương trình</li>\n",
    "        <li>Nếu m < n => <span style=\"color:red\">tìm</span> các số i trong <span style=\"color:red\">phạm vi từ 1 đến N</span> (sử dụng vòng lặp for)</li>\n",
    "        <li>Nếu i chia hết cho m (i % m == 0) => i thỏa mãn yêu cầu cần tìm (các số chia hết cho m trong khoảng từ 1 đến n)</li>\n",
    "    </ul>\n",
    "</li>\n",
    "<li> OUTPUT:\n",
    "    <ul>\n",
    "        <li>Xuất các số chia hết cho m trong khoảng từ 1 đến n (các giá trị i tìm được khi thực hiện vòng lặp)</li>\n",
    "    </ul>\n",
    "</li>\n",
    "</ul>"
   ]
  },
  {
   "cell_type": "markdown",
   "metadata": {},
   "source": [
    "![ex-3.png](./assets/chapter_4_algorithm_and_flowchart/ex-3.png)"
   ]
  },
  {
   "cell_type": "code",
   "execution_count": null,
   "metadata": {},
   "outputs": [],
   "source": [
    "print(\"Nhập vào 2 số tự nhiên m, n (m < n)\")\n",
    "n = int(input(\"Nhập số tự nhiên n: \"))\n",
    "m = int(input(\"Nhập số tự nhiên m: \"))\n",
    "if m > 0 and n > 0:\n",
    "    if m < n:\n",
    "        print(\"Các số chia hết cho m trong khoảng từ 1 đến n:\")\n",
    "        for i in range(1, n+1):\n",
    "            if i%m == 0:\n",
    "                print(i)\n",
    "    else:    \n",
    "        print(\"Yêu cầu m < n\")\n",
    "else:\n",
    "    print(\"m, n phải là 2 số tự nhiên\")"
   ]
  },
  {
   "cell_type": "markdown",
   "metadata": {},
   "source": [
    "## 4. Viết thuật giải nhập 3 số từ bàn phím và in ra số lớn nhất trong ba số đó."
   ]
  },
  {
   "cell_type": "markdown",
   "metadata": {},
   "source": [
    "## 5. Viết thuật giải nhập 2 số từ bàn phím và in ra BCNN của hai số đó"
   ]
  },
  {
   "cell_type": "markdown",
   "metadata": {},
   "source": [
    "## 6. Biểu diễn giải thuật giải các bài toán sau bằng sơ đồ khối và giả mã:\n",
    "##        - Giải hệ phương trình bậc nhất.\n",
    "##        - Tính số ngày của một tháng một năm nào đó.\n",
    "##        - Giải thuật tìm ước số chung lớn nhất."
   ]
  },
  {
   "cell_type": "markdown",
   "metadata": {},
   "source": [
    "## 7. Hãy xây dựng giải thuật để tính tổng các chữ số của một số nguyên N bất kỳ. Ví dụ: N = 2022 thì giải thuật trả về 8 (2+0+2+2)"
   ]
  },
  {
   "cell_type": "code",
   "execution_count": null,
   "metadata": {},
   "outputs": [],
   "source": []
  }
 ],
 "metadata": {
  "kernelspec": {
   "display_name": "Python 3.10.9 ('base')",
   "language": "python",
   "name": "python3"
  },
  "language_info": {
   "codemirror_mode": {
    "name": "ipython",
    "version": 3
   },
   "file_extension": ".py",
   "mimetype": "text/x-python",
   "name": "python",
   "nbconvert_exporter": "python",
   "pygments_lexer": "ipython3",
   "version": "3.10.9"
  },
  "orig_nbformat": 4,
  "vscode": {
   "interpreter": {
    "hash": "2043299c89c8cd0b4d1a6f5cf4529bd58e6a4e0fe3181a25e0d328c821cdc5c5"
   }
  }
 },
 "nbformat": 4,
 "nbformat_minor": 2
}
