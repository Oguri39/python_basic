{
 "cells": [
  {
   "cell_type": "markdown",
   "metadata": {},
   "source": [
    "# Chương 4 - GIẢI THUẬT VÀ LƯU ĐỒ"
   ]
  },
  {
   "cell_type": "markdown",
   "metadata": {},
   "source": [
    "## 1. Viết thuật giải nhập 1 số từ bàn phím và in ra bình phương của số đó nếu số đó là số dương.\n"
   ]
  },
  {
   "cell_type": "markdown",
   "metadata": {},
   "source": [
    "## 2. Viết thuật giải nhập từ bàn phím một số tự nhiên N và in ra các số nguyên trong phạm vi từ 1 đến N."
   ]
  },
  {
   "cell_type": "markdown",
   "metadata": {},
   "source": [
    "## 3. Viết thuật giải nhập từ bàn phím 2 số tự nhiên m, n (m < n) và in ra màn hình các số chia hết cho m trong khoảng từ 1 đến n.\n",
    "## Hướng dẫn: Để kiểm tra xem một số x có chia hết cho m không ta dùng biểu thức kiểm tra X MOD M=0. Nếu biểu thức này là đúng thì x chia hết cho m."
   ]
  },
  {
   "cell_type": "markdown",
   "metadata": {},
   "source": [
    "## 4. Viết thuật giải nhập 3 số từ bàn phím và in ra số lớn nhất trong ba số đó."
   ]
  },
  {
   "cell_type": "markdown",
   "metadata": {},
   "source": [
    "## 5. Viết thuật giải nhập 2 số từ bàn phím và in ra BCNN của hai số đó"
   ]
  },
  {
   "cell_type": "markdown",
   "metadata": {},
   "source": [
    "## 6. Biểu diễn giải thuật giải các bài toán sau bằng sơ đồ khối và giả mã:\n",
    "##        - Giải hệ phương trình bậc nhất.\n",
    "##        - Tính số ngày của một tháng một năm nào đó.\n",
    "##        - Giải thuật tìm ước số chung lớn nhất."
   ]
  },
  {
   "cell_type": "markdown",
   "metadata": {},
   "source": [
    "## 7. Hãy xây dựng giải thuật để tính tổng các chữ số của một số nguyên N bất kỳ. Ví dụ: N = 2022 thì giải thuật trả về 8 (2+0+2+2)"
   ]
  },
  {
   "cell_type": "code",
   "execution_count": null,
   "metadata": {},
   "outputs": [],
   "source": []
  }
 ],
 "metadata": {
  "language_info": {
   "name": "python"
  },
  "orig_nbformat": 4
 },
 "nbformat": 4,
 "nbformat_minor": 2
}
