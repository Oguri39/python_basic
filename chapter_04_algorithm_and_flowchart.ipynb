{
 "cells": [
  {
   "cell_type": "markdown",
   "metadata": {},
   "source": [
    "<h1> Chương 4 - GIẢI THUẬT VÀ LƯU ĐỒ </h1>"
   ]
  },
  {
   "cell_type": "markdown",
   "metadata": {},
   "source": [
    "<h5> 1. Viết thuật giải nhập 1 số từ bàn phím và in ra bình phương của số đó nếu số đó là số dương. </h5>\n",
    "<p>Phân tích yêu cầu:</p>\n",
    "<ul>\n",
    "<li> INPUT: \n",
    "    <ul>\n",
    "        <li>Nhập 1 số từ bàn phím (n)</li>\n",
    "    </ul>\n",
    " </li>\n",
    "<li> PROCESS: \n",
    "    <ul>\n",
    "        <li>Kiểm tra n > 0</li>\n",
    "        <li>Nếu n > 0 => tính bình phương n</li>\n",
    "    </ul>\n",
    "</li>\n",
    "<li> OUTPUT:\n",
    "    <ul>\n",
    "        <li>Xuất kết quả bình phương n</li>\n",
    "    </ul>\n",
    "</li>\n",
    "</ul>\n"
   ]
  },
  {
   "cell_type": "markdown",
   "metadata": {},
   "source": [
    "![ex-1.png](./assets/chapter_04_algorithm_and_flowchart/ex-1.png)"
   ]
  },
  {
   "cell_type": "code",
   "execution_count": null,
   "metadata": {},
   "outputs": [],
   "source": [
    "n = float(input(\"Nhập 1 số n: \"))\n",
    "if n > 0:\n",
    "    result = n**2\n",
    "    print(\"Giá trị bình phương của \", n, \" là \", result)"
   ]
  },
  {
   "cell_type": "markdown",
   "metadata": {},
   "source": [
    "<h5>2. Viết thuật giải nhập từ bàn phím một số tự nhiên N và in ra các số nguyên trong phạm vi từ 1 đến N.</h5>\n",
    "<p>Phân tích yêu cầu:</p>\n",
    "<ul>\n",
    "<li> INPUT: \n",
    "    <ul>\n",
    "        <li>Nhập từ bàn phím một số tự nhiên N (n ép kiểu int)</li>\n",
    "    </ul>\n",
    " </li>\n",
    "<li> PROCESS: \n",
    "    <ul>\n",
    "        <li>Kiểm tra n là <span style=\"color:red\">số tự nhiên</span> (n > 0)</li>\n",
    "        <li>Nếu n < 0 => dừng chương trình</li>\n",
    "        <li>Nếu là số tự nhiên => <span style=\"color:red\">tìm</span> các số nguyên trong <span style=\"color:red\">phạm vi từ 1 đến N</span> (sử dụng vòng lặp for)</li>\n",
    "    </ul>\n",
    "</li>\n",
    "<li> OUTPUT:\n",
    "    <ul>\n",
    "        <li>Xuất ra các số nguyên trong phạm vi từ 1 đến N</li>\n",
    "    </ul>\n",
    "</li>\n",
    "</ul>"
   ]
  },
  {
   "cell_type": "markdown",
   "metadata": {},
   "source": [
    "![ex-2.png](./assets/chapter_04_algorithm_and_flowchart/ex-2.png)"
   ]
  },
  {
   "cell_type": "code",
   "execution_count": null,
   "metadata": {},
   "outputs": [],
   "source": [
    "n = int(input(\"Nhập số tự nhiên n: \"))\n",
    "if n > 0:\n",
    "    print(\"Các số nguyên trong phạm vi từ 1 đến N\")\n",
    "    for i in range(1, n+1):\n",
    "        print(i)\n",
    "else:\n",
    "    print(\"n phải là số tự nhiên\")"
   ]
  },
  {
   "cell_type": "markdown",
   "metadata": {},
   "source": [
    "<h5> 3. Viết thuật giải nhập từ bàn phím 2 số tự nhiên m, n (m < n) và in ra màn hình các số chia hết cho m trong khoảng từ 1 đến n.</h5>\n",
    "</h5> Hướng dẫn: Để kiểm tra xem một số x có chia hết cho m không ta dùng biểu thức kiểm tra X MOD M=0. Nếu biểu thức này là đúng thì x chia hết cho m. </h5>\n",
    "<p>Phân tích yêu cầu:</p>\n",
    "<ul>\n",
    "<li> INPUT: \n",
    "    <ul>\n",
    "        <li>Nhập 2 <span style=\"color:red\">số tự nhiên</span> m, n (m < n) (m, n ép kiểu int)</li>\n",
    "    </ul>\n",
    " </li>\n",
    "<li> PROCESS: \n",
    "    <ul>\n",
    "        <li>Kiểm tra m, n > 0</li>\n",
    "        <li>Nếu m, n < 0 => dừng chương trình</li>\n",
    "        <li>Kiểm tra m < n</li>\n",
    "        <li>Nếu m > n => dừng chương trình</li>\n",
    "        <li>Nếu m < n => <span style=\"color:red\">tìm</span> các số i trong <span style=\"color:red\">phạm vi từ 1 đến N</span> (sử dụng vòng lặp for)</li>\n",
    "        <li>Nếu i chia hết cho m (i % m == 0) => i thỏa mãn yêu cầu cần tìm (các số chia hết cho m trong khoảng từ 1 đến n)</li>\n",
    "    </ul>\n",
    "</li>\n",
    "<li> OUTPUT:\n",
    "    <ul>\n",
    "        <li>Xuất các số chia hết cho m trong khoảng từ 1 đến n (các giá trị i tìm được khi thực hiện vòng lặp)</li>\n",
    "    </ul>\n",
    "</li>\n",
    "</ul>"
   ]
  },
  {
   "cell_type": "markdown",
   "metadata": {},
   "source": [
    "![ex-3.png](./assets/chapter_04_algorithm_and_flowchart/ex-3.png)"
   ]
  },
  {
   "cell_type": "code",
   "execution_count": null,
   "metadata": {},
   "outputs": [],
   "source": [
    "print(\"Nhập vào 2 số tự nhiên m, n (m < n)\")\n",
    "n = int(input(\"Nhập số tự nhiên n: \"))\n",
    "m = int(input(\"Nhập số tự nhiên m: \"))\n",
    "if m > 0 and n > 0:\n",
    "    if m < n:\n",
    "        print(\"Các số chia hết cho m trong khoảng từ 1 đến n:\")\n",
    "        for i in range(1, n+1):\n",
    "            if i%m == 0:\n",
    "                print(i)\n",
    "    else:    \n",
    "        print(\"Yêu cầu m < n\")\n",
    "else:\n",
    "    print(\"m, n phải là 2 số tự nhiên\")"
   ]
  },
  {
   "cell_type": "markdown",
   "metadata": {},
   "source": [
    "<h5>4. Viết thuật giải nhập 3 số từ bàn phím và in ra số lớn nhất trong ba số đó.</h5>\n",
    "<p>Phân tích yêu cầu:</p>\n",
    "<ul>\n",
    "<li> INPUT: \n",
    "    <ul>\n",
    "        <li>Nhập 3 số từ bàn phím (a, b, c)</li>\n",
    "    </ul>\n",
    " </li>\n",
    "<li> PROCESS: \n",
    "    <ul>\n",
    "        <li>Để thuận tiện khi tìm các giá trị max min, trong lập trình thường sử dụng phương pháp biến nhớ</li>\n",
    "        <li>Đặt max = a</li>\n",
    "        <li>Kiểm tra max > b</li>\n",
    "        <li>Nếu max <= b => max = b</li>\n",
    "        <li>Nếu max <= c => max = c</li>\n",
    "    </ul>\n",
    "</li>\n",
    "<li> OUTPUT:\n",
    "    <ul>\n",
    "        <li>Xuất số lớn nhất trong ba số đó (giá trị max)</li>\n",
    "    </ul>\n",
    "</li>\n",
    "</ul>"
   ]
  },
  {
   "cell_type": "markdown",
   "metadata": {},
   "source": [
    "![ex-4.png](./assets/chapter_04_algorithm_and_flowchart/ex-4.png)"
   ]
  },
  {
   "cell_type": "code",
   "execution_count": null,
   "metadata": {},
   "outputs": [],
   "source": [
    "print(\"Nhập vào 3 số a, b, c\")\n",
    "a = float(input(\"Nhập vào số a: \"))\n",
    "b = float(input(\"Nhập vào số b: \"))\n",
    "c = float(input(\"Nhập vào số c: \"))\n",
    "max = a\n",
    "if max <= b:\n",
    "    max = b\n",
    "if max <= c:\n",
    "    max = c\n",
    "print(\"Giá trị lớn nhất: \", max)"
   ]
  },
  {
   "cell_type": "markdown",
   "metadata": {},
   "source": [
    "<h5>5. Viết thuật giải nhập 2 số từ bàn phím và in ra BCNN của hai số đó</h5>\n",
    "<p>Phân tích yêu cầu:</p>\n",
    "<ul>\n",
    "<li> INPUT: \n",
    "    <ul>\n",
    "        <li>Nhập 2 số từ bàn phím (a, b)</li>\n",
    "        <li>Do việc tìm kiếm BCNN chỉ được thực hiện trên số nguyên dương và không thực hiện trên số thực nên ta ép kiểu cho a và b là int và a, b > 0</li>\n",
    "    </ul>\n",
    " </li>\n",
    "<li> PROCESS: \n",
    "    <ul>\n",
    "        <li>Nếu a <= 0 hoặc b <= 0 => dừng chương trình</li>\n",
    "        <li>Để tìm bội chung nhỏ nhất giữa hai số, ta sẽ đặt giá trị max là giá trị lớn nhất giữa hai số, sau đấy lấy max chia cho cả hai số. Nếu phần dư khác 0, ta sẽ tăng giá trị của max lên 1 và tiếp tục chia. Thực hiện lặp lại các bước cho đến khi max chia cho cả a và b thu được số dư là 0. Lúc này bội chung nhỏ nhất sẽ là max</li>\n",
    "        <li>Đặt max = a</li>\n",
    "        <li>Nếu max <= b => max = b</li>\n",
    "        <li>Tạo vòng lặp while True (Do việc tìm kiếm BCNN là tìm kiếm không xác định, không có giới hạn cụ thể vùng tìm kiếm nên ta sử dụng while)</li>\n",
    "        <li>Nếu max % a == 0 and max %b == 0 => break thoát khỏi vòng lặp</li>\n",
    "        <li>Nếu max % a == 0 and max %b == 0 là sai => max += 1</li>\n",
    "    </ul>\n",
    "</li>\n",
    "<li> OUTPUT:\n",
    "    <ul>\n",
    "        <li>Xuất ra BCNN của hai a, b (là giá trị max tìm được)</li>\n",
    "    </ul>\n",
    "</li>\n",
    "</ul>"
   ]
  },
  {
   "cell_type": "markdown",
   "metadata": {},
   "source": [
    "![ex-5.png](./assets/chapter_04_algorithm_and_flowchart/ex-5.png)"
   ]
  },
  {
   "cell_type": "code",
   "execution_count": null,
   "metadata": {},
   "outputs": [],
   "source": [
    "a = int(input(\"Nhập số nguyên dương a: \"))\n",
    "b = int(input(\"Nhập số nguyên dương b: \"))\n",
    "if a > 0 and b > 0:\n",
    "    max = a\n",
    "    if max <= b:\n",
    "        max = b\n",
    "    while True:\n",
    "        if max % a == 0 and max % b == 0:\n",
    "            break\n",
    "        else:\n",
    "            max += 1\n",
    "    print(\"BCNN của hai số \", a, \" và \", b,\" là: \", max)\n",
    "else:\n",
    "    print(\"Yêu cầu nhập 2 số nguyên dương\")"
   ]
  },
  {
   "cell_type": "markdown",
   "metadata": {},
   "source": [
    "<h5> 6. Biểu diễn giải thuật giải các bài toán sau bằng sơ đồ khối và giả mã:</h5>\n",
    "<h5>        - Giải hệ phương trình bậc nhất.</h5>\n",
    "<h5>        - Tính số ngày của một tháng một năm nào đó.</h5>\n",
    "<h5>        - Giải thuật tìm ước số chung lớn nhất.</h5>"
   ]
  },
  {
   "cell_type": "markdown",
   "metadata": {},
   "source": [
    "<p style=\"color:yellow\">Giải hệ phương trình bậc nhất<p>\n",
    "<p>Phân tích yêu cầu:</p>\n",
    "<ul>\n",
    "<li> INPUT: \n",
    "    <ul>\n",
    "        <li>Giải hệ phương trình bậc nhất 2 ẩn x, y ta phải nhập các hệ số tương ứng vào chương trình để thực hiện tính toán</li>\n",
    "        <li>Nhập các hệ số a1, b1, c1 của phương trình thứ nhất</li>\n",
    "        <li>Nhập các hệ số a2, b2, c2 của phương trình thứ hai</li>\n",
    "    </ul>\n",
    " </li>\n",
    "<li> PROCESS: \n",
    "    <ul>\n",
    "        <li>Để tìm nghiệm của phương trình bậc nhất cách đơn giản nhất là sử dụng định thức Cramer</li>\n",
    "        <li>Đặt d = a1*b2 - a2*b1</li>\n",
    "        <li>Đặt dx = c1*b2 - c2*b1</li>\n",
    "        <li>Đặt dy = a1*c2 - a2*c1</li>\n",
    "        <li>Nếu d != 0 => x = dx/d, y = dy/d</li>\n",
    "        <li>Nếu d == 0 => Nếu dx != 0 hoặc dy != 0 => vô nghiệm</li>\n",
    "        <li>Nếu d == 0 => Nếu dx == 0 và dy == => vô số nghiệm</li>\n",
    "    </ul>\n",
    "</li>\n",
    "<li> OUTPUT:\n",
    "    <ul>\n",
    "        <li>Xuất ra màn hình các giá trị tìm được khi xét các trương hợp ở trên</li>\n",
    "    </ul>\n",
    "</li>\n",
    "</ul>"
   ]
  },
  {
   "cell_type": "markdown",
   "metadata": {},
   "source": [
    "![ex-6.png](./assets/chapter_04_algorithm_and_flowchart/ex-6-1.png)"
   ]
  },
  {
   "cell_type": "code",
   "execution_count": null,
   "metadata": {},
   "outputs": [],
   "source": [
    "print(\"Nhập các hệ số của hệ phương trình bậc nhất 2 ẩn\")\n",
    "a1 = float(input(\"Nhập vào hệ số a1: \"))\n",
    "b1 = float(input(\"Nhập vào hệ số b1: \"))\n",
    "c1 = float(input(\"Nhập vào hệ số c1: \"))\n",
    "a2 = float(input(\"Nhập vào hệ số a2: \"))\n",
    "b2 = float(input(\"Nhập vào hệ số b2: \"))\n",
    "c2 = float(input(\"Nhập vào hệ số c2: \"))\n",
    "\n",
    "d = a1*b2 - a2*b1\n",
    "dx = c1*b2 - c2*b1\n",
    "dy = a1*c2 - a2*c1\n",
    "\n",
    "if d != 0:\n",
    "    x = dx/d\n",
    "    y = dy/d\n",
    "    print(\"Nghiệm của hệ phương trình là: (x, y) = (\", x, \", \", y,\")\")\n",
    "else:\n",
    "    if dx != 0 or dy != 0:\n",
    "        print(\"Hệ phương trình vô nghiệm\")\n",
    "    else:\n",
    "        print(\"Hệ phương trình vô số nghiệm\")"
   ]
  },
  {
   "cell_type": "markdown",
   "metadata": {},
   "source": [
    "<p style=\"color:yellow\">Tính số ngày của một tháng một năm nào đó<p>\n",
    "<p>Phân tích yêu cầu:</p>\n",
    "\n",
    "<ul>\n",
    "<li> INPUT: \n",
    "    <ul>\n",
    "        <li>Nhập tháng m (m là số tự nhiên: 0 < m < 13) (ép kiểu int cho m)</li>\n",
    "        <li>Nhập năm y (y là số tự nhiên: y > 0) (ép kiểu int cho y)</li>\n",
    "    </ul>\n",
    " </li>\n",
    "<li> PROCESS: \n",
    "    <ul>\n",
    "        <li>Nếu m <= 0 hoặc m >= 13 => dừng chương trình</li>\n",
    "        <li>Nếu y <=0 => dừng chương trình</li>\n",
    "        <li>Nếu m == 1 => d = 31</li>\n",
    "        <li>Nếu m == 2 => Xác định xem năm này có phải năm nhuận không:\n",
    "            <ul>\n",
    "                <li>Nếu y%4 == 0 và y%100 != 0 đúng => năm nhuận => d = 29</li>\n",
    "                <li>Nếu y%4 == 0 và y%100 != 0 sai => năm thường => d = 28</li>\n",
    "            </ul>\n",
    "        </li>\n",
    "        <li>Nếu m == 3 => d = 31</li>\n",
    "        <li>Nếu m == 4 => d = 30</li>\n",
    "        <li>Nếu m == 5 => d = 31</li>\n",
    "        <li>Nếu m == 6 => d = 30</li>\n",
    "        <li>Nếu m == 7 => d = 31</li>\n",
    "        <li>Nếu m == 8 => d = 31</li>\n",
    "        <li>Nếu m == 9 => d = 30</li>\n",
    "        <li>Nếu m == 10 => d = 31</li>\n",
    "        <li>Nếu m == 11 => d = 30</li>\n",
    "        <li>Nếu m == 12 => d = 31</li>\n",
    "    </ul>\n",
    "</li>\n",
    "<li> OUTPUT:\n",
    "    <ul>\n",
    "        <li>Xuất ra số ngày của một tháng m một năm y (giá trị d)</li>\n",
    "    </ul>\n",
    "</li>\n",
    "</ul>"
   ]
  },
  {
   "cell_type": "markdown",
   "metadata": {},
   "source": [
    "![ex-6.png](./assets/chapter_04_algorithm_and_flowchart/ex-6-2.png)"
   ]
  },
  {
   "cell_type": "code",
   "execution_count": null,
   "metadata": {},
   "outputs": [],
   "source": [
    "print(\"Nhập tháng và năm cần tính\")\n",
    "m = int(input(\"Nhập tháng: \"))\n",
    "y = int(input(\"Nhập năm: \"))\n",
    "if m > 0 and y > 0 and m < 13:\n",
    "    if m == 1:\n",
    "        d = 31\n",
    "    elif m == 2:\n",
    "        if y % 4 == 0 and y % 100 != 0:\n",
    "            d = 29\n",
    "        else:\n",
    "            d = 28\n",
    "    elif m == 3:\n",
    "        d = 31\n",
    "    elif m == 4:\n",
    "        d = 30\n",
    "    elif m == 5:\n",
    "        d = 31\n",
    "    elif m == 6:\n",
    "        d = 30\n",
    "    elif m == 7:\n",
    "        d = 31\n",
    "    elif m == 8:\n",
    "        d = 31\n",
    "    elif m == 9:\n",
    "        d = 30\n",
    "    elif m == 10:\n",
    "        d = 31\n",
    "    elif m == 11:\n",
    "        d = 30\n",
    "    else:\n",
    "        d = 31\n",
    "    print(\"Số ngày trong tháng là: \", d)\n",
    "else:\n",
    "    print(\"Không chính xác tháng hoặc năm\")\n"
   ]
  },
  {
   "cell_type": "markdown",
   "metadata": {},
   "source": [
    "<p style=\"color:yellow\">Giải thuật tìm ước số chung lớn nhất<p>\n",
    "<p>Phân tích yêu cầu:</p>\n",
    "<ul>\n",
    "<li> INPUT: \n",
    "    <ul>\n",
    "        <li>Nhập 2 số từ bàn phím (a, b)</li>\n",
    "        <li>Do việc tìm kiếm UCNN chỉ được thực hiện trên số nguyên dương và không thực hiện trên số thực nên ta ép kiểu cho a và b là int, và a, b > 0</li>\n",
    "    </ul>\n",
    " </li>\n",
    "<li> PROCESS: \n",
    "    <ul>\n",
    "        <li>Nếu a <= 0 hoặc b <= 0 => dừng chương trình</li>\n",
    "        <li>Để tìm ước chung lớn nhất giữa hai số, ta sẽ đặt giá trị min là giá trị nhỏ nhất giữa hai số a và b, sau đấy lấy 2 số a và b chia cho giá trị min. Nếu phần dư khác 0, ta sẽ giảm giá trị của min đi 1 và tiếp tục chia. Thực hiện lặp đi lăpj lại các bước chia cho đến khi cả hai số a và b chia cho min thu được giá trị dư là 0. Lúc này UCLN sẽ là min</li>\n",
    "        <li>Đặt min = a</li>\n",
    "        <li>Nếu min >= b => min = b</li>\n",
    "        <li>Tạo vòng lặp while True (Tuy việc tìm kiếm UCNN có thể giới hạn bằng khoảng tư 0 đến số lớn nhất giữa 2 số a và b, nhưng do phải mất công quay lại tìm giá trị lớn nhất để xét khoảng, ta sử dụng vòng lặp while sẽ thuận tiện hơn)</li>\n",
    "        <li>Nếu a % min == 0 and b % min == 0 => break thoát khỏi vòng lặp</li>\n",
    "        <li>Nếu a % min == 0 and b % min == 0 là sai => min -= 1</li>\n",
    "    </ul>\n",
    "</li>\n",
    "<li> OUTPUT:\n",
    "    <ul>\n",
    "        <li>Xuất ra UCNN của hai a, b (là giá trị min tìm được)</li>\n",
    "    </ul>\n",
    "</li>\n",
    "</ul>"
   ]
  },
  {
   "cell_type": "markdown",
   "metadata": {},
   "source": [
    "![ex-6.png](./assets/chapter_04_algorithm_and_flowchart/ex-6-3.png)"
   ]
  },
  {
   "cell_type": "code",
   "execution_count": null,
   "metadata": {},
   "outputs": [],
   "source": [
    "a = int(input(\"Nhập số nguyên dương a: \"))\n",
    "b = int(input(\"Nhập số nguyên dương b: \"))\n",
    "if a > 0 and b > 0:\n",
    "    min = a\n",
    "    if min >= b:\n",
    "        min = b\n",
    "    while True:\n",
    "        if a % min == 0 and b % min == 0:\n",
    "            break\n",
    "        else:\n",
    "            min -= 1\n",
    "    print(\"UCNN của hai số \", a, \" và \", b,\" là: \", min)\n",
    "else:\n",
    "    print(\"Yêu cầu nhập 2 số nguyên dương\")"
   ]
  },
  {
   "cell_type": "markdown",
   "metadata": {},
   "source": [
    "<h5>7. Hãy xây dựng giải thuật để tính tổng các chữ số của một số nguyên N bất kỳ. Ví dụ: N = 2022 thì giải thuật trả về 6 (2+0+2+2)</h5>\n",
    "<p>Phân tích yêu cầu:</p>\n",
    "<ul>\n",
    "<li> INPUT: \n",
    "    <ul>\n",
    "        <li>Nhập một số nguyên n (ép kiểu int)</li>\n",
    "    </ul>\n",
    " </li>\n",
    "<li> PROCESS: \n",
    "    <ul>\n",
    "        <li>Do tính tổng các chữ số nên ta không cần quan tâm đến số này âm hay dương, tuy nhiên vẫn phải kiểm tra xem số nhập vào có âm không để chuyển thành số dương giúp việc tính toán dễ dàng hơn</li>\n",
    "        <li>Nếu n < 0 => n = -n</li>\n",
    "        <li>Để tính tổng các chữ số của một số bất kì, ta sẽ lấy số đó chia cho 10 lưu lại phần dư và lấy phần thương chia tiếp cho 10 đến khi không chia được nữa rồi cộng tất cả phần dư lại ta sẽ thu được kết quả\n",
    "            <ul>Ví dụ:\n",
    "                <li>2022 : 10 = 202 dư 2</li>\n",
    "                <li> 202 : 10 = 20  dư 2</li>\n",
    "                <li>  20 : 10 =  2  dư 0</li>\n",
    "                <li>   2 : 10 =  0  dư 2</li>\n",
    "                <li>tổng = 2 + 2 + 0 + 2 = 6</li>\n",
    "            </ul>\n",
    "        <li>Để triển khai được thao tác trên ta sẽ sử dụng vòng lặp</li>\n",
    "        </li>\n",
    "        <li>Khai báo tong = 0 làm biến lưu tổng các chữ số</li>\n",
    "        <li>Khai báo thuong = n làm biến lưu thương sau mỗi lần tính với khởi đầu là n</li>\n",
    "        <li>Do số nhập vào là số ngẫu nhiên không xác định được số hạng các chữ số nên sử vòng lặp while sẽ thuận tiện hơn</li>\n",
    "        <li>Khai báo vòng lặp while True</li>\n",
    "        <li>\n",
    "            <ul>Trong vòng lặp sẽ thực hiện\n",
    "                <li>so_du = thuong % 10</li>\n",
    "                <li>thuong = thuong // 10</li>\n",
    "                <li>tong = tong + so_du</li>\n",
    "                <li>Nếu thuong == 0 => break để thoát khỏi vòng lặp</li>\n",
    "            </ul>\n",
    "        </li>\n",
    "    </ul>\n",
    "</li>\n",
    "<li> OUTPUT:\n",
    "    <ul>\n",
    "        <li>Xuất tổng các của các chữ số trong n (giá trị tong)</li>\n",
    "    </ul>\n",
    "</li>\n",
    "</ul>"
   ]
  },
  {
   "cell_type": "markdown",
   "metadata": {},
   "source": [
    "![ex-7.png](./assets/chapter_04_algorithm_and_flowchart/ex-7.png)"
   ]
  },
  {
   "cell_type": "code",
   "execution_count": null,
   "metadata": {},
   "outputs": [],
   "source": [
    "n = int(input(\"Nhập số nguyên n bất kì: \"))\n",
    "if n < 0:\n",
    "    n = -n\n",
    "tong = 0\n",
    "thuong = n\n",
    "while True:\n",
    "    so_du = thuong % 10\n",
    "    thuong = thuong // 10\n",
    "    tong = tong + so_du\n",
    "    if thuong == 0:\n",
    "        break\n",
    "print(\"Tổng các chữ số là: \", tong)"
   ]
  }
 ],
 "metadata": {
  "kernelspec": {
   "display_name": "Python 3.10.9 ('base')",
   "language": "python",
   "name": "python3"
  },
  "language_info": {
   "codemirror_mode": {
    "name": "ipython",
    "version": 3
   },
   "file_extension": ".py",
   "mimetype": "text/x-python",
   "name": "python",
   "nbconvert_exporter": "python",
   "pygments_lexer": "ipython3",
   "version": "3.10.9"
  },
  "orig_nbformat": 4,
  "vscode": {
   "interpreter": {
    "hash": "2043299c89c8cd0b4d1a6f5cf4529bd58e6a4e0fe3181a25e0d328c821cdc5c5"
   }
  }
 },
 "nbformat": 4,
 "nbformat_minor": 2
}
