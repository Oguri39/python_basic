{
 "cells": [
  {
   "cell_type": "markdown",
   "metadata": {},
   "source": [
    "<h1>Kiểm tra 45 phút - Đề số 06</h1>"
   ]
  },
  {
   "cell_type": "markdown",
   "metadata": {},
   "source": [
    "<h5><b>Câu 1 (3 điểm):</b> Viết chương trình bằng ngôn ngữ Python dựa trên lưu đồ sau:</h5>"
   ]
  },
  {
   "cell_type": "markdown",
   "metadata": {},
   "source": [
    "![de_06_01.PNG](./../assets/test/de_06_01.PNG)"
   ]
  },
  {
   "cell_type": "code",
   "execution_count": 1,
   "metadata": {},
   "outputs": [
    {
     "name": "stdout",
     "output_type": "stream",
     "text": [
      "4, 5, 6 la 3 canh cua tam giac\n"
     ]
    }
   ],
   "source": [
    "a = int(input(\"Nhap gia tri a\"))\n",
    "b = int(input(\"Nhap gia tri b\"))\n",
    "c = int(input(\"Nhap gia tri c\"))\n",
    "if a > 0 and b > 0 and c > 0:\n",
    "    if a + b > c:\n",
    "        if c + b > a:\n",
    "            if c + a > b:\n",
    "                print(f\"{a}, {b}, {c} la 3 canh cua tam giac\")\n",
    "            else:\n",
    "                print(f\"{a}, {b}, {c} khong phai 3 canh cua tam giac\")    \n",
    "        else:\n",
    "            print(f\"{a}, {b}, {c} khong phai 3 canh cua tam giac\")    \n",
    "    else:\n",
    "        print(f\"{a}, {b}, {c} khong phai 3 canh cua tam giac\")\n",
    "else:\n",
    "    print(f\"{a}, {b}, {c} khong phai 3 canh cua tam giac\")"
   ]
  },
  {
   "cell_type": "markdown",
   "metadata": {},
   "source": [
    "<h5><b>Câu 2 (3 điểm):</b> Dựa trên yêu cầu dưới đây, vẽ lưu đồ cho chương trình:\n",
    "<br>Nhập vào bàn phím số năm yy (yy > 0). Kiểm tra xem yy có phải năm nhuận hay không.\n",
    "<br>Biết năm nhuận là năm chia hết cho 400 hoặc chia hết cho 4 và không chia hết cho 100.</h5>"
   ]
  },
  {
   "cell_type": "markdown",
   "metadata": {},
   "source": []
  },
  {
   "cell_type": "markdown",
   "metadata": {},
   "source": [
    "<h5><b>Câu 3 (4 điểm):</b> Viết chương trình bằng ngôn ngữ Python:\n",
    "<br>Nhập từ bàn phím số nguyên dương n. Hiển thị dãy số Fibonacci với độ dài n.\n",
    "<br>Biết: Dãy Fibonacci là dãy vô hạn các số tự nhiên bắt đầu bằng hai phần tử 0 và 1, các phần tử sau đó được thiết lập theo quy tắc mỗi phần tử luôn bằng tổng hai phần tử trước nó.\n",
    "<br>Ví dụ: 0, 1, 1, 2, 3, 5, 8, 13, 21, 34, 55, …\n",
    "</h5>"
   ]
  },
  {
   "cell_type": "code",
   "execution_count": 3,
   "metadata": {},
   "outputs": [
    {
     "name": "stdout",
     "output_type": "stream",
     "text": [
      "0 1 "
     ]
    }
   ],
   "source": [
    "n = int(input(\"Nhap do dai day so\"))\n",
    "if n <= 0:\n",
    "    print(\"Vui long nhap so nguyen duong\")\n",
    "else:\n",
    "    first = 0\n",
    "    second = 1\n",
    "    temp = second\n",
    "    if n == 1:\n",
    "        print(0)\n",
    "    else:\n",
    "        print(first, second, end=\" \")\n",
    "    for i in range(0, n - 2):\n",
    "        second = first + second\n",
    "        first = temp\n",
    "        print(second, end = \" \")\n",
    "        temp = second"
   ]
  }
 ],
 "metadata": {
  "kernelspec": {
   "display_name": "Python 3.10.9 ('base')",
   "language": "python",
   "name": "python3"
  },
  "language_info": {
   "codemirror_mode": {
    "name": "ipython",
    "version": 3
   },
   "file_extension": ".py",
   "mimetype": "text/x-python",
   "name": "python",
   "nbconvert_exporter": "python",
   "pygments_lexer": "ipython3",
   "version": "3.10.9"
  },
  "orig_nbformat": 4,
  "vscode": {
   "interpreter": {
    "hash": "2043299c89c8cd0b4d1a6f5cf4529bd58e6a4e0fe3181a25e0d328c821cdc5c5"
   }
  }
 },
 "nbformat": 4,
 "nbformat_minor": 2
}
