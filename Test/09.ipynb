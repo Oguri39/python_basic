{
 "cells": [
  {
   "cell_type": "markdown",
   "metadata": {},
   "source": [
    "<h1>Kiểm tra 45 phút - Đề số 09</h1>"
   ]
  },
  {
   "cell_type": "markdown",
   "metadata": {},
   "source": [
    "<h5><b>Câu 1 (3 điểm):</b> Viết chương trình bằng ngôn ngữ Python dựa trên lưu đồ sau:</h5>"
   ]
  },
  {
   "cell_type": "markdown",
   "metadata": {},
   "source": [
    "![de_09_01.PNG](./../assets/test/de_09_01.PNG)"
   ]
  },
  {
   "cell_type": "code",
   "execution_count": 2,
   "metadata": {},
   "outputs": [
    {
     "name": "stdout",
     "output_type": "stream",
     "text": [
      "Gia tri can bac hai: 2.6457513110645907\n"
     ]
    }
   ],
   "source": [
    "n = int(input(\"Nhap vao n: \"))\n",
    "if n > 0:\n",
    "    can_bac_hai = n**0.5\n",
    "    print(f\"Gia tri can bac hai: {can_bac_hai}\")\n",
    "else:\n",
    "    print(\"n phai lon hon 0\")    "
   ]
  },
  {
   "cell_type": "markdown",
   "metadata": {},
   "source": [
    "<h5><b>Câu 2 (3 điểm):</b> Dựa trên yêu cầu dưới đây, vẽ lưu đồ cho chương trình:\n",
    "<br>Nhập vào bàn phím số nguyên dương n. Xuất ra màn hình các số chẵn nhỏ hơn hoặc bằng n.</h5>"
   ]
  },
  {
   "cell_type": "markdown",
   "metadata": {},
   "source": []
  },
  {
   "cell_type": "markdown",
   "metadata": {},
   "source": [
    "<h5><b>Câu 3 (4 điểm):</b> Viết chương trình bằng ngôn ngữ Python:\n",
    "<br>Nhập vào từ bàn phím số nguyên dương n. Viết hàm kiểm tra số hoàn hảo. Tìm số hoàn hảo m gần nhất với n sao cho m – n ≥ 30.\n",
    "<br>Biết: số hoàn hảo là một số nguyên dương mà tổng các ước nguyên dương của nó ngoại trừ nó bằng chính nó.\n",
    "</h5>"
   ]
  },
  {
   "cell_type": "code",
   "execution_count": null,
   "metadata": {},
   "outputs": [],
   "source": [
    "def kiem_tra_so_hoan_hao(so_can_kiem_tra):\n",
    "    tong = 0\n",
    "    for i in range(1, so_can_kiem_tra):\n",
    "        if so_can_kiem_tra % i == 0:\n",
    "            tong = tong + i\n",
    "    if tong == so_can_kiem_tra:\n",
    "        return True\n",
    "    else:\n",
    "        return False\n",
    "\n",
    "n = int(input(\"Nhap vao so nguyen duong n: \"))\n",
    "if n < 0:\n",
    "    print(\"n phai la so nguyen duong\")\n",
    "else:\n",
    "    m = n + 30\n",
    "    while True:\n",
    "        if kiem_tra_so_hoan_hao(m):\n",
    "            break\n",
    "        else:\n",
    "            m = m + 1\n",
    "    print(f\"So hoan hao gan nhat voi {n} thoa man m - {n} >= 30: {m}\")"
   ]
  }
 ],
 "metadata": {
  "kernelspec": {
   "display_name": "Python 3.10.9 ('base')",
   "language": "python",
   "name": "python3"
  },
  "language_info": {
   "codemirror_mode": {
    "name": "ipython",
    "version": 3
   },
   "file_extension": ".py",
   "mimetype": "text/x-python",
   "name": "python",
   "nbconvert_exporter": "python",
   "pygments_lexer": "ipython3",
   "version": "3.10.9"
  },
  "orig_nbformat": 4,
  "vscode": {
   "interpreter": {
    "hash": "2043299c89c8cd0b4d1a6f5cf4529bd58e6a4e0fe3181a25e0d328c821cdc5c5"
   }
  }
 },
 "nbformat": 4,
 "nbformat_minor": 2
}
