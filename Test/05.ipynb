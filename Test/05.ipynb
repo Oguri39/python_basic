{
 "cells": [
  {
   "cell_type": "markdown",
   "metadata": {},
   "source": [
    "<h1>Kiểm tra 45 phút - Đề số 05</h1>"
   ]
  },
  {
   "cell_type": "markdown",
   "metadata": {},
   "source": [
    "<h5><b>Câu 1 (3 điểm):</b> Viết chương trình bằng ngôn ngữ Python dựa trên lưu đồ sau:</h5>"
   ]
  },
  {
   "cell_type": "markdown",
   "metadata": {},
   "source": [
    "![de_05_01.PNG](./../assets/test/de_05_01.PNG)"
   ]
  },
  {
   "cell_type": "code",
   "execution_count": null,
   "metadata": {},
   "outputs": [],
   "source": [
    "a = int(input(\"Nhap gia tri a\"))\n",
    "b = int(input(\"Nhap gia tri b\"))\n",
    "c = int(input(\"Nhap gia tri c\"))\n",
    "if a > b and a > c:\n",
    "    print(f\"{a} lon nhat\")\n",
    "elif b > a and b > c:\n",
    "    print(f\"{b} lon nhat\")\n",
    "elif c > a and c > b:\n",
    "    print(f\"{c} lon nhat\")\n",
    "else:\n",
    "    print(f\"a = b = c = {a}\")"
   ]
  },
  {
   "cell_type": "markdown",
   "metadata": {},
   "source": [
    "<h5><b>Câu 2 (3 điểm):</b> Dựa trên yêu cầu dưới đây, vẽ lưu đồ cho chương trình:\n",
    "<br>Nhập vào từ bàn phím các hệ số a1, b1, c1, a2, b2, c2, giải hệ phương trình sau:\n",
    "</h5>"
   ]
  },
  {
   "cell_type": "markdown",
   "metadata": {},
   "source": [
    "![de_05_02.PNG](./../assets/test/de_05_02.PNG)"
   ]
  },
  {
   "cell_type": "markdown",
   "metadata": {},
   "source": []
  },
  {
   "cell_type": "markdown",
   "metadata": {},
   "source": [
    "<h5><b>Câu 3 (4 điểm):</b> Viết chương trình bằng ngôn ngữ Python:\n",
    "<br>Nhập vào từ bàn phím số nguyên dương n. Viết hàm kiểm tra số hoàn hảo. Tính tổng các số hoàn hảo nhỏ hơn hoặc bằng n.\n",
    "<br>Biết: số hoàn hảo là một số nguyên dương mà tổng các ước nguyên dương của nó ngoại trừ nó bằng chính nó.</h5>"
   ]
  },
  {
   "cell_type": "code",
   "execution_count": 3,
   "metadata": {},
   "outputs": [
    {
     "name": "stdout",
     "output_type": "stream",
     "text": [
      "Tong cac so hoan hao: 34\n"
     ]
    }
   ],
   "source": [
    "def kiem_tra_so_hoan_hao(so_can_kiem_tra):\n",
    "    tong = 0\n",
    "    for i in range(1, so_can_kiem_tra):\n",
    "        if so_can_kiem_tra % i == 0:\n",
    "            tong = tong + i\n",
    "    if tong == so_can_kiem_tra:\n",
    "        return True\n",
    "    else:\n",
    "        return False\n",
    "\n",
    "n = int(input(\"Nhap vao so nguyen duong n: \"))\n",
    "if n < 0:\n",
    "    print(\"n phai la so nguyen duong\")\n",
    "else:\n",
    "    tong = 0\n",
    "    for i in range(1, n + 1):\n",
    "        if kiem_tra_so_hoan_hao(i):\n",
    "            tong = tong + i\n",
    "    print(f\"Tong cac so hoan hao: {tong}\")"
   ]
  }
 ],
 "metadata": {
  "kernelspec": {
   "display_name": "Python 3.10.9 ('base')",
   "language": "python",
   "name": "python3"
  },
  "language_info": {
   "codemirror_mode": {
    "name": "ipython",
    "version": 3
   },
   "file_extension": ".py",
   "mimetype": "text/x-python",
   "name": "python",
   "nbconvert_exporter": "python",
   "pygments_lexer": "ipython3",
   "version": "3.10.9"
  },
  "orig_nbformat": 4,
  "vscode": {
   "interpreter": {
    "hash": "2043299c89c8cd0b4d1a6f5cf4529bd58e6a4e0fe3181a25e0d328c821cdc5c5"
   }
  }
 },
 "nbformat": 4,
 "nbformat_minor": 2
}
