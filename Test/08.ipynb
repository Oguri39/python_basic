{
 "cells": [
  {
   "cell_type": "markdown",
   "metadata": {},
   "source": [
    "<h1>Kiểm tra 45 phút - Đề số 08</h1>"
   ]
  },
  {
   "cell_type": "markdown",
   "metadata": {},
   "source": [
    "<h5><b>Câu 1 (3 điểm):</b> Viết chương trình bằng ngôn ngữ Python dựa trên lưu đồ sau:</h5>"
   ]
  },
  {
   "cell_type": "markdown",
   "metadata": {},
   "source": [
    "![de_08_01.PNG](./../assets/test/de_08_01.PNG)"
   ]
  },
  {
   "cell_type": "code",
   "execution_count": null,
   "metadata": {},
   "outputs": [],
   "source": [
    "n = int(input(\"Nhap vao n: \"))\n",
    "if n > 0:\n",
    "    du = n%7\n",
    "    print(f\"Gia tri du: {du}\")\n",
    "else:\n",
    "    print(\"n phai lon hon 0\")    "
   ]
  },
  {
   "cell_type": "markdown",
   "metadata": {},
   "source": [
    "<h5><b>Câu 2 (3 điểm):</b> Dựa trên yêu cầu dưới đây, vẽ lưu đồ cho chương trình:\n",
    "<br>Nhập vào 4 số a, b, c, d tìm số nhỏ nhất giữa 4 số.</h5>"
   ]
  },
  {
   "cell_type": "markdown",
   "metadata": {},
   "source": []
  },
  {
   "cell_type": "markdown",
   "metadata": {},
   "source": [
    "<h5><b>Câu 3 (4 điểm):</b> Viết chương trình bằng ngôn ngữ Python:\n",
    "<br>Viết hàm kiểm tra số tự mãn. Nhập từ bàn phím số nguyên dương n. Tìm số tự mãn gần nhất bên phải n.\n",
    "<br>Biết: Số tự mãn là một số mà có tổng của từng chữ số mũ n (n >= 2) bằng chính nó.\n",
    "<br>Ví dụ: \n",
    "<br>Số tự mãn 3 chữ số: 153 = (1 * 1 * 1) + (5 * 5 * 5) + (3 * 3 * 3).\n",
    "<br>Số tự mãn 4 chữ số: 8208 = (8 * 8 * 8 * 8) + (2 * 2 * 2 * 2) + (0 * 0 * 0 * 0) + (8 * 8 * 8 * 8)</h5>"
   ]
  },
  {
   "cell_type": "code",
   "execution_count": 2,
   "metadata": {},
   "outputs": [
    {
     "name": "stdout",
     "output_type": "stream",
     "text": [
      "So tu man gan nhat ben phai 10: 153\n"
     ]
    }
   ],
   "source": [
    "def kiem_tra_so_tu_man(so_can_kiem_tra):\n",
    "    if len(str(so_can_kiem_tra)) <= 1:\n",
    "        return False\n",
    "    else:\n",
    "        n = len(str(so_can_kiem_tra))\n",
    "        t = so_can_kiem_tra\n",
    "        tong = 0\n",
    "        while t != 0:\n",
    "            tong = tong + (t%10)**n\n",
    "            t = int(t/10)\n",
    "        if tong == so_can_kiem_tra:\n",
    "            return True\n",
    "        else:\n",
    "            return False\n",
    "\n",
    "n = int(input(\"Nhap vao mot so nguyen duong n: \"))\n",
    "if n < 0:\n",
    "    print(\"n phai la so nguyen duong\")\n",
    "else:\n",
    "    t = n + 1\n",
    "    while True:\n",
    "        if kiem_tra_so_tu_man(t):\n",
    "            break\n",
    "        else:\n",
    "            t = t + 1\n",
    "    print(f\"So tu man gan nhat ben phai {n}: {t}\")"
   ]
  }
 ],
 "metadata": {
  "kernelspec": {
   "display_name": "Python 3.10.9 ('base')",
   "language": "python",
   "name": "python3"
  },
  "language_info": {
   "codemirror_mode": {
    "name": "ipython",
    "version": 3
   },
   "file_extension": ".py",
   "mimetype": "text/x-python",
   "name": "python",
   "nbconvert_exporter": "python",
   "pygments_lexer": "ipython3",
   "version": "3.10.9"
  },
  "orig_nbformat": 4,
  "vscode": {
   "interpreter": {
    "hash": "2043299c89c8cd0b4d1a6f5cf4529bd58e6a4e0fe3181a25e0d328c821cdc5c5"
   }
  }
 },
 "nbformat": 4,
 "nbformat_minor": 2
}
