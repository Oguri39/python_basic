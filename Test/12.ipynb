{
 "cells": [
  {
   "cell_type": "markdown",
   "metadata": {},
   "source": [
    "<h1>Kiểm tra 45 phút - Đề số 12</h1>"
   ]
  },
  {
   "cell_type": "markdown",
   "metadata": {},
   "source": [
    "<h5><b>Câu 1 (3 điểm):</b> Viết chương trình bằng ngôn ngữ Python dựa trên lưu đồ sau:</h5>"
   ]
  },
  {
   "cell_type": "markdown",
   "metadata": {},
   "source": [
    "![de_12_01.PNG](./../assets/test/de_12_01.PNG)"
   ]
  },
  {
   "cell_type": "code",
   "execution_count": null,
   "metadata": {},
   "outputs": [],
   "source": [
    "c = float(\"Nhap vao nhiet do C: \")\n",
    "k = c + 273\n",
    "print(f\"Nhiet do K la: {k}\")"
   ]
  },
  {
   "cell_type": "markdown",
   "metadata": {},
   "source": [
    "<h5><b>Câu 2 (3 điểm):</b> Dựa trên yêu cầu dưới đây, vẽ lưu đồ cho chương trình:\n",
    "<br>Nhập vào từ bàn phím một số nguyên dương t. Tính giá trị của biểu thức sau:</h5>"
   ]
  },
  {
   "cell_type": "markdown",
   "metadata": {},
   "source": [
    "![de_12_02.PNG](./../assets/test/de_12_02.PNG)"
   ]
  },
  {
   "cell_type": "markdown",
   "metadata": {},
   "source": [
    "<h5><b>Câu 3 (4 điểm):</b> Viết chương trình bằng ngôn ngữ Python:\n",
    "<br>Nhập vào từ bàn phím số nguyên dương n. Viết hàm xác định xem số n có đối xứng hay không.\n",
    "<br>Biết: Số n là số đối xứng nếu đọc từ trái qua phải hay từ phải qua trái đều thu được số giống nhau.\n",
    "</h5>"
   ]
  },
  {
   "cell_type": "code",
   "execution_count": 1,
   "metadata": {},
   "outputs": [
    {
     "name": "stdout",
     "output_type": "stream",
     "text": [
      "1233321 la so doi xung\n"
     ]
    }
   ],
   "source": [
    "def kiem_tra_doi_xung(so_can_kiem_tra):\n",
    "    chr = str(so_can_kiem_tra)\n",
    "    if len(chr) <= 1:\n",
    "        return False\n",
    "    else:\n",
    "        if chr == chr[::-1]:\n",
    "            return True\n",
    "        else:\n",
    "            return False\n",
    "\n",
    "n = int(input(\"Nhap vao mot so nguyen duong n: \"))\n",
    "if n < 0:\n",
    "    print(\"n phai la so nguyen duong\")\n",
    "else:\n",
    "    if kiem_tra_doi_xung(n):\n",
    "        print(f\"{n} la so doi xung\")\n",
    "    else:\n",
    "        print(f\"{n} khong phai so doi xung\")"
   ]
  }
 ],
 "metadata": {
  "kernelspec": {
   "display_name": "Python 3.10.9 ('base')",
   "language": "python",
   "name": "python3"
  },
  "language_info": {
   "codemirror_mode": {
    "name": "ipython",
    "version": 3
   },
   "file_extension": ".py",
   "mimetype": "text/x-python",
   "name": "python",
   "nbconvert_exporter": "python",
   "pygments_lexer": "ipython3",
   "version": "3.10.9"
  },
  "orig_nbformat": 4,
  "vscode": {
   "interpreter": {
    "hash": "2043299c89c8cd0b4d1a6f5cf4529bd58e6a4e0fe3181a25e0d328c821cdc5c5"
   }
  }
 },
 "nbformat": 4,
 "nbformat_minor": 2
}
