{
 "cells": [
  {
   "cell_type": "markdown",
   "metadata": {},
   "source": [
    "<h1>Kiểm tra 45 phút - Đề số 03</h1>"
   ]
  },
  {
   "cell_type": "markdown",
   "metadata": {},
   "source": [
    "<h5><b>Câu 1 (3 điểm):</b> Viết chương trình bằng ngôn ngữ Python dựa trên lưu đồ sau:</h5>"
   ]
  },
  {
   "cell_type": "markdown",
   "metadata": {},
   "source": [
    "![de_03_01.PNG](./../assets/test/de_03_01.PNG)"
   ]
  },
  {
   "cell_type": "code",
   "execution_count": null,
   "metadata": {},
   "outputs": [],
   "source": [
    "c = float(\"Nhap vao nhiet do C: \")\n",
    "k = c + 273\n",
    "print(f\"Nhiet do K la: {k}\")"
   ]
  },
  {
   "cell_type": "markdown",
   "metadata": {},
   "source": [
    "<h5><b>Câu 2 (3 điểm):</b> Dựa trên yêu cầu dưới đây, vẽ lưu đồ cho chương trình:\n",
    "<br>Nhập vào từ bàn phím một số nguyên n bất kì. Kiểm tra xem n âm hay dương, nếu âm thì đổi giá trị n về dương. Xuất ra màn hình các số từ 3 đến n.</h5>"
   ]
  },
  {
   "cell_type": "markdown",
   "metadata": {},
   "source": []
  },
  {
   "cell_type": "markdown",
   "metadata": {},
   "source": [
    "<h5><b>Câu 3 (4 điểm):</b> Viết chương trình bằng ngôn ngữ Python:\n",
    "<br>Nhập vào từ bàn phím tử và mẫu của một phân số. Xuất ra màn hình phân số sau khi rút gọn</h5>"
   ]
  },
  {
   "cell_type": "code",
   "execution_count": 3,
   "metadata": {},
   "outputs": [
    {
     "name": "stdout",
     "output_type": "stream",
     "text": [
      "Phan so sau khi rut gon: 4/7\n"
     ]
    }
   ],
   "source": [
    "def xac_dinh_UCLN(a,b):\n",
    "    min = a\n",
    "    if min > b:\n",
    "        min = b\n",
    "    for i in range(min, 0, -1):\n",
    "        if a%i == 0 and b%i == 0:\n",
    "            return i\n",
    "\n",
    "tu_so = int(input(\"Nhap tu so: \"))\n",
    "mau_so = int(input(\"Nhap mau so: \"))\n",
    "if mau_so == 0:\n",
    "    print(\"Phan so khong ton tai\")\n",
    "elif tu_so == 0:\n",
    "    print(\"Phan so rut gon: 0\")\n",
    "else:\n",
    "    while True:\n",
    "        uoc_chung = xac_dinh_UCLN(tu_so, mau_so)\n",
    "        if uoc_chung == 1:\n",
    "            break\n",
    "        else:\n",
    "            tu_so = int(tu_so/uoc_chung)\n",
    "            mau_so = int(mau_so/uoc_chung)\n",
    "    print(f\"Phan so sau khi rut gon: {tu_so}/{mau_so}\")"
   ]
  }
 ],
 "metadata": {
  "kernelspec": {
   "display_name": "Python 3.10.9 ('base')",
   "language": "python",
   "name": "python3"
  },
  "language_info": {
   "codemirror_mode": {
    "name": "ipython",
    "version": 3
   },
   "file_extension": ".py",
   "mimetype": "text/x-python",
   "name": "python",
   "nbconvert_exporter": "python",
   "pygments_lexer": "ipython3",
   "version": "3.10.9"
  },
  "orig_nbformat": 4,
  "vscode": {
   "interpreter": {
    "hash": "2043299c89c8cd0b4d1a6f5cf4529bd58e6a4e0fe3181a25e0d328c821cdc5c5"
   }
  }
 },
 "nbformat": 4,
 "nbformat_minor": 2
}
