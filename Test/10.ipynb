{
 "cells": [
  {
   "cell_type": "markdown",
   "metadata": {},
   "source": [
    "<h1>Kiểm tra 45 phút - Đề số 10</h1>"
   ]
  },
  {
   "cell_type": "markdown",
   "metadata": {},
   "source": [
    "<h5><b>Câu 1 (3 điểm):</b> Viết chương trình bằng ngôn ngữ Python dựa trên lưu đồ sau:</h5>"
   ]
  },
  {
   "cell_type": "markdown",
   "metadata": {},
   "source": [
    "![de_10_01.PNG](./../assets/test/de_10_01.PNG)"
   ]
  },
  {
   "cell_type": "code",
   "execution_count": null,
   "metadata": {},
   "outputs": [],
   "source": [
    "n = input(\"Nhap chuoi n: \")\n",
    "if n == \"XX\":\n",
    "    print(\"Gioi tinh nu\")\n",
    "elif n == \"XY\":\n",
    "    print(\"Gioi tinh nam\")\n",
    "else:\n",
    "    print(\"Khong xac dinh gioi tinh\")"
   ]
  },
  {
   "cell_type": "markdown",
   "metadata": {},
   "source": [
    "<h5><b>Câu 2 (3 điểm):</b> Dựa trên yêu cầu dưới đây, vẽ lưu đồ cho chương trình:\n",
    "<br>Nhập lãi suất năm r (%), tiền vốn p và thời hạn gửi tiền n năm từ bàn phím. In ra vốn tích lũy a của từng năm.\n",
    "<br>Biết công thức a = p * (1+r)^n</h5>"
   ]
  },
  {
   "cell_type": "markdown",
   "metadata": {},
   "source": []
  },
  {
   "cell_type": "markdown",
   "metadata": {},
   "source": [
    "<h5><b>Câu 3 (4 điểm):</b> Viết chương trình bằng ngôn ngữ Python:\n",
    "<br>Nhập vào từ bàn phím một số nguyên dương n. Viết hàm kiểm tra số chính phương. Nếu n là số chính phương, xuất ra tổng các chữ số của số n.\n",
    "<br>Biết: Số chính phương là số tự nhiên có căn bậc hai là một số tự nhiên.\n",
    "</h5>"
   ]
  },
  {
   "cell_type": "code",
   "execution_count": null,
   "metadata": {},
   "outputs": [],
   "source": [
    "def kiem_tra_so_chinh_phuong(so_can_kiem_tra):\n",
    "    if so_can_kiem_tra < 1:\n",
    "        return False\n",
    "    else:\n",
    "        k = so_can_kiem_tra**0.5\n",
    "        if int(k)**2 == so_can_kiem_tra:\n",
    "            return True\n",
    "        else:\n",
    "            return False\n",
    "\n",
    "n = int(input(\"Nhap vao mot so nguyen duong n: \"))\n",
    "if n < 0:\n",
    "    print(\"n phai la so nguyen duong\")\n",
    "else:\n",
    "    if kiem_tra_so_chinh_phuong(n):\n",
    "        tong = 0\n",
    "        for i in str(n):\n",
    "            tong = tong + int(i)\n",
    "        print(f\"Tong cac chu so cua {n}: {tong}\")\n",
    "    else:\n",
    "        print(f\"{n} khong phai so chinh phuong\")"
   ]
  }
 ],
 "metadata": {
  "kernelspec": {
   "display_name": "Python 3.10.9 ('base')",
   "language": "python",
   "name": "python3"
  },
  "language_info": {
   "name": "python",
   "version": "3.10.9"
  },
  "orig_nbformat": 4,
  "vscode": {
   "interpreter": {
    "hash": "2043299c89c8cd0b4d1a6f5cf4529bd58e6a4e0fe3181a25e0d328c821cdc5c5"
   }
  }
 },
 "nbformat": 4,
 "nbformat_minor": 2
}
