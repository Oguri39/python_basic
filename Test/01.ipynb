{
 "cells": [
  {
   "cell_type": "markdown",
   "metadata": {},
   "source": [
    "<h1>Kiểm tra 45 phút - Đề số 01</h1>"
   ]
  },
  {
   "cell_type": "markdown",
   "metadata": {},
   "source": [
    "<h5><b>Câu 1 (3 điểm):</b> Viết chương trình bằng ngôn ngữ Python dựa trên lưu đồ sau:</h5>"
   ]
  },
  {
   "cell_type": "markdown",
   "metadata": {},
   "source": [
    "![de_01_01.PNG](./../assets/test/de_01_01.PNG)"
   ]
  },
  {
   "cell_type": "code",
   "execution_count": null,
   "metadata": {},
   "outputs": [],
   "source": [
    "n = int(input(\"Nhap vao n: \"))\n",
    "if n > 0:\n",
    "    thuong = n//5\n",
    "    print(f\"Gia tri thuong: {thuong}\")\n",
    "else:\n",
    "    print(\"n phai lon hon 0\")    "
   ]
  },
  {
   "cell_type": "markdown",
   "metadata": {},
   "source": [
    "<h5><b>Câu 2 (3 điểm):</b> Dựa trên yêu cầu dưới đây, vẽ lưu đồ cho chương trình:\n",
    "<br>Nhập vào từ bàn phím một số nguyên dương t. Tính giá trị của biểu thức sau:</h5>"
   ]
  },
  {
   "cell_type": "markdown",
   "metadata": {},
   "source": [
    "![de_01_02.PNG](./../assets/test/de_01_02.PNG)"
   ]
  },
  {
   "cell_type": "markdown",
   "metadata": {},
   "source": []
  },
  {
   "cell_type": "markdown",
   "metadata": {},
   "source": [
    "<h5><b>Câu 3 (4 điểm):</b> Viết chương trình bằng ngôn ngữ Python:\n",
    "<br>Nhập vào từ bàn phím một số nguyên dương n. Viết hàm kiểm tra n có phải số nguyên tố hay không.\n",
    "<br>Biết: Số nguyên tố là số tự nhiên lớn hơn 1, chỉ chia hết cho 1 và chính nó</h5>"
   ]
  },
  {
   "cell_type": "code",
   "execution_count": 2,
   "metadata": {},
   "outputs": [
    {
     "name": "stdout",
     "output_type": "stream",
     "text": [
      "7 la so nguyen to\n"
     ]
    }
   ],
   "source": [
    "def kiem_tra_so_nguyen_to(so_can_kiem_tra):\n",
    "    if so_can_kiem_tra <= 1:\n",
    "        return False\n",
    "    else:\n",
    "        for i in range(2, so_can_kiem_tra):\n",
    "            if so_can_kiem_tra % i == 0:\n",
    "                return False\n",
    "        else:\n",
    "            return True\n",
    "\n",
    "n = int(input(\"Nhap vao mot so nguyen duong n: \"))\n",
    "if n < 0:\n",
    "    print(\"n phai la so nguyen duong\")\n",
    "else:\n",
    "    if kiem_tra_so_nguyen_to(n):\n",
    "        print(f\"{n} la so nguyen to\")\n",
    "    else:\n",
    "        print(f\"{n} khong phai so nguyen to\")"
   ]
  }
 ],
 "metadata": {
  "kernelspec": {
   "display_name": "Python 3.10.9 ('base')",
   "language": "python",
   "name": "python3"
  },
  "language_info": {
   "codemirror_mode": {
    "name": "ipython",
    "version": 3
   },
   "file_extension": ".py",
   "mimetype": "text/x-python",
   "name": "python",
   "nbconvert_exporter": "python",
   "pygments_lexer": "ipython3",
   "version": "3.10.9"
  },
  "orig_nbformat": 4,
  "vscode": {
   "interpreter": {
    "hash": "2043299c89c8cd0b4d1a6f5cf4529bd58e6a4e0fe3181a25e0d328c821cdc5c5"
   }
  }
 },
 "nbformat": 4,
 "nbformat_minor": 2
}
