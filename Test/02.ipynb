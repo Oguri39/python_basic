{
 "cells": [
  {
   "cell_type": "markdown",
   "metadata": {},
   "source": [
    "<h1>Kiểm tra 45 phút - Đề số 02</h1>"
   ]
  },
  {
   "cell_type": "markdown",
   "metadata": {},
   "source": [
    "<h5><b>Câu 1 (3 điểm):</b> Viết chương trình bằng ngôn ngữ Python dựa trên lưu đồ sau:</h5>"
   ]
  },
  {
   "cell_type": "markdown",
   "metadata": {},
   "source": [
    "![de_02_01.PNG](./../assets/test/de_02_01.PNG)"
   ]
  },
  {
   "cell_type": "code",
   "execution_count": null,
   "metadata": {},
   "outputs": [],
   "source": [
    "n = int(input(\"Nhap vao n: \"))\n",
    "if n > 0:\n",
    "    i = 0\n",
    "    while i < n:\n",
    "        print(i)\n",
    "        i = i + 1\n",
    "else:\n",
    "    print(\"n phai lon hon 0\")"
   ]
  },
  {
   "cell_type": "markdown",
   "metadata": {},
   "source": [
    "<h5><b>Câu 2 (3 điểm):</b> Dựa trên yêu cầu dưới đây, vẽ lưu đồ cho chương trình:\n",
    "<br>Nhập vào từ bàn phím các số a, b, c. Giải phương trình ax + b = c</h5>"
   ]
  },
  {
   "cell_type": "markdown",
   "metadata": {},
   "source": []
  },
  {
   "cell_type": "markdown",
   "metadata": {},
   "source": [
    "<h5><b>Câu 3 (4 điểm):</b> Viết chương trình bằng ngôn ngữ Python:\n",
    "<br>Nhập vào từ bàn phím một số nguyên dương n. Viết hàm kiểm tra số chính phương. Tìm số chình phương m gần nhất với n sao cho m – n ≥ 20.\n",
    "<br>Biết: Số chính phương là số tự nhiên có căn bậc hai là một số tự nhiên.</h5>\n"
   ]
  },
  {
   "cell_type": "code",
   "execution_count": 2,
   "metadata": {},
   "outputs": [
    {
     "name": "stdout",
     "output_type": "stream",
     "text": [
      "4 la so chinh phuong\n"
     ]
    }
   ],
   "source": [
    "def kiem_tra_so_chinh_phuong(so_can_kiem_tra):\n",
    "    if so_can_kiem_tra < 1:\n",
    "        return False\n",
    "    else:\n",
    "        k = so_can_kiem_tra**0.5\n",
    "        if int(k)**2 == so_can_kiem_tra:\n",
    "            return True\n",
    "        else:\n",
    "            return False\n",
    "\n",
    "n = int(input(\"Nhap vao mot so nguyen duong n: \"))\n",
    "if n < 0:\n",
    "    print(\"n phai la so nguyen duong\")\n",
    "else:\n",
    "    if kiem_tra_so_chinh_phuong(n):\n",
    "        print(f\"{n} la so chinh phuong\")\n",
    "    else:\n",
    "        print(f\"{n} khong phai so chinh phuong\")"
   ]
  }
 ],
 "metadata": {
  "kernelspec": {
   "display_name": "Python 3.10.9 ('base')",
   "language": "python",
   "name": "python3"
  },
  "language_info": {
   "codemirror_mode": {
    "name": "ipython",
    "version": 3
   },
   "file_extension": ".py",
   "mimetype": "text/x-python",
   "name": "python",
   "nbconvert_exporter": "python",
   "pygments_lexer": "ipython3",
   "version": "3.10.9"
  },
  "orig_nbformat": 4,
  "vscode": {
   "interpreter": {
    "hash": "2043299c89c8cd0b4d1a6f5cf4529bd58e6a4e0fe3181a25e0d328c821cdc5c5"
   }
  }
 },
 "nbformat": 4,
 "nbformat_minor": 2
}
