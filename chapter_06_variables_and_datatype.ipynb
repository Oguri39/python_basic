{
 "cells": [
  {
   "cell_type": "markdown",
   "metadata": {},
   "source": [
    "<h1> Chương 6 - BIẾN VÀ CÁC KIỂU DỮ LIỆU CƠ SỞ </h1>"
   ]
  },
  {
   "cell_type": "markdown",
   "metadata": {},
   "source": [
    "<h5> 1.4. Xử lý biểu thức. </h5>\n",
    "<p>Yêu cầu 1: Thêm dấu ngoặc đơn vào biểu thức sau để nó có giá trị là 1.</p>\n",
    "<pre>       5 - 3 // 2</pre>\n",
    "<p>Yêu cầu 2: Thêm dấu ngoặc đơn vào biểu thức sau để nó có giá trị là 0.</p>\n",
    "<pre>       8 - 3 * 2 - 1 + 1</pre>"
   ]
  },
  {
   "cell_type": "code",
   "execution_count": 3,
   "metadata": {},
   "outputs": [
    {
     "name": "stdout",
     "output_type": "stream",
     "text": [
      "(5 - 3) // 2 = 1\n",
      "8 - 3 * 2 - (1 + 1) = 0\n"
     ]
    }
   ],
   "source": [
    "a = (5 - 3) // 2\n",
    "print(f\"(5 - 3) // 2 = {a}\")\n",
    "b = 8 - 3 * 2 - (1 + 1)\n",
    "print(f\"8 - 3 * 2 - (1 + 1) = {b}\")"
   ]
  },
  {
   "cell_type": "markdown",
   "metadata": {},
   "source": [
    "<h5>1.5. Tính tiền hàng </h5>\n",
    "<p>Yêu cầu: Xây dựng chương trình tính tiền hàng theo công thức: </p>\n",
    "<pre>       Thành tiền= Số lượng *Đơn giá</pre>"
   ]
  },
  {
   "cell_type": "code",
   "execution_count": 4,
   "metadata": {},
   "outputs": [
    {
     "name": "stdout",
     "output_type": "stream",
     "text": [
      "Thanh tien = 100 * 5000 = 500000\n"
     ]
    }
   ],
   "source": [
    "so_luong = int(input(\"Nhap so luong: \"))\n",
    "don_gia = int(input(\"Nhap don gia: \"))\n",
    "thanh_tien = so_luong * don_gia\n",
    "print(f\"Thanh tien = {so_luong} * {don_gia} = {thanh_tien}\")"
   ]
  },
  {
   "cell_type": "markdown",
   "metadata": {},
   "source": [
    "<h5>1.6. Chia đều số kẹo</h5>\n",
    "<p>Mô tả: </p>\n",
    "<pre>Alice, Bob và Carol đã đồng ý gộp kẹo Halloween của họ lại và chia đều cho nhau. \n",
    "Vì tình bạn của họ, bất kỳ viên kẹo nào còn dư lại sẽ bị đập vỡ. Ví dụ, nếu họ gộp \n",
    "lại được 91 viên kẹo, mỗi người sẽ được 30 viên và đập 1 viên (kẹo dư).\n",
    "</pre>\n",
    "<p>Yêu cầu: Viết biểu thức số học dưới đây để tính xem họ phải đập bao nhiêu viên kẹo dư.</p>\n",
    "<p># Các biến đại diện cho số lượng kẹo mà Alice, Bob và Carol có được</p>\n",
    "<pre>\n",
    "    alice_candies = 121\n",
    "    bob_candies = 77\n",
    "    carol_candies = 109\n",
    "</pre>\n",
    "<p># Bạn hãy viết biểu thức ở đây! Thay thế phía bên phải của bài tập này bằng một biểu thức </p>\n",
    "<p>liên quan đến alice_candies, bob_candies và carol_candies (để tính ra số kẹo dư sau khi chia </p>\n",
    "<p>đều tổng số kẹo gộp cho Alice, Bob và Carol)</p>\n",
    "<pre>   to_smash = ….</pre>"
   ]
  },
  {
   "cell_type": "code",
   "execution_count": 6,
   "metadata": {},
   "outputs": [
    {
     "name": "stdout",
     "output_type": "stream",
     "text": [
      "1\n"
     ]
    }
   ],
   "source": [
    "alice_candies = 121\n",
    "bob_candies = 77\n",
    "carol_candies = 109\n",
    "to_smash = (alice_candies + bob_candies + carol_candies)%3\n",
    "print(to_smash)"
   ]
  },
  {
   "cell_type": "markdown",
   "metadata": {},
   "source": [
    "<h5>1.7. Đổi nhiệt độ từ độ C sang độ F</h5>\n",
    "<p>Yêu cầu: Viết chương trình đổi nhiệt độ từ độ C sang độ F</p>\n",
    "<pre>ông thức tính: Độ F = 9/5 * Độ C + 32</pre>"
   ]
  },
  {
   "cell_type": "code",
   "execution_count": 7,
   "metadata": {},
   "outputs": [
    {
     "name": "stdout",
     "output_type": "stream",
     "text": [
      "27.0 do C = 80.6 do F\n"
     ]
    }
   ],
   "source": [
    "do_c = float(input(\"Nhap do C: \"))\n",
    "do_f = (9/5)*do_c + 32\n",
    "print(f\"{do_c} do C = {do_f} do F\")"
   ]
  },
  {
   "cell_type": "markdown",
   "metadata": {},
   "source": [
    "<h5>1.8. Xử lý chuỗi ký tự</h5>\n",
    "<p>Yêu cầu: Viết chương xử lý chuỗi</p>\n",
    "<ul>\n",
    "<li>\n",
    "Chuỗi s1, s2, s3 được nhập vào từ bàn phím\n",
    "</li>\n",
    "<li>\n",
    "Chỉ mục index được nhập từ bàn phím\n",
    "</li>\n",
    "<li>\n",
    "Cho biết chiều dài của chuỗi s1 và s2, s3\n",
    "</li>\n",
    "<li>\n",
    "Tạo chuỗi con s4 từ chuỗi s1 với nội dung từ index đến hết chuỗi\n",
    "</li>\n",
    "<li>\n",
    "Lặp lại chuỗi s2: 2 lần\n",
    "</li>\n",
    "</ul>"
   ]
  },
  {
   "cell_type": "code",
   "execution_count": 10,
   "metadata": {},
   "outputs": [
    {
     "name": "stdout",
     "output_type": "stream",
     "text": [
      "Chieu dai chuoi s1: 5\n",
      "Chieu dai chuoi s2: 6\n",
      "Chieu dai chuoi s3: 19\n",
      "Chuoi s4: llo\n",
      "Chuoi s2 lap lai 2 lan: PythonPython\n"
     ]
    }
   ],
   "source": [
    "s1 = input(\"Nhap chuoi s1: \")\n",
    "s2 = input(\"Nhap chuoi s2: \")\n",
    "s3 = input(\"Nhap chuoi s3: \")\n",
    "index = int(input(\"Nhap index: \"))\n",
    "print(f\"Chieu dai chuoi s1: {len(s1)}\")\n",
    "print(f\"Chieu dai chuoi s2: {len(s2)}\")\n",
    "print(f\"Chieu dai chuoi s3: {len(s3)}\")\n",
    "print(f\"Chuoi s4: {s1[index : ]}\")\n",
    "print(f\"Chuoi s2 lap lai 2 lan: {s2*2}\")"
   ]
  },
  {
   "cell_type": "markdown",
   "metadata": {},
   "source": [
    "<h5>\n",
    "1.9. Tính tiền lãi gửi tiết kiệm\n",
    "</h5>\n",
    "<p>\n",
    "Yêu cầu: Viết chương trình tính tiền lãi gửi tiết kiệm\n",
    "</p>\n",
    "<ul>\n",
    "<li>\n",
    "Lãi suất một năm, số tiền gửi và số tháng gửi được nhập vào từ bàn phím. Viết chương trình tính tiền lãi và tính tổng số tiền nhận được sau khi hết thời hạn gửi tiền:\n",
    "</li>\n",
    "<pre>\n",
    "        Tiền lãi = (Số tiền gửi * Số tháng) * (Lãi suất năm/12)\n",
    "        Tổng số tiền = Số tiền gửi + Tiền lãi\n",
    "</pre>\n",
    "<li>\n",
    "Sau đó hiển thị kết quả.\n",
    "</li>\n",
    "<li>\n",
    "Ví dụ: Lãi suất năm = 7.6, số tiền gửi = 10.000.000 vnđ, số tháng gửi = 6 tháng\n",
    "</li>\n",
    "<pre>\n",
    "        Tiền lãi = (10000000 * 6) * (7.6/100/12) = 380000 vnđ\n",
    "        Tiền vốn + lãi = 10000000 + 380000 = 10380000 vnđ\n",
    "</pre>\n",
    "</ul>"
   ]
  },
  {
   "cell_type": "code",
   "execution_count": 11,
   "metadata": {},
   "outputs": [
    {
     "name": "stdout",
     "output_type": "stream",
     "text": [
      "Tien lai = (10000000.0 * 6) * (7.6/100/12) = 380000.0 VND\n",
      "Tong so tien = 10000000.0 + 380000.0 = 10380000.0 VND\n"
     ]
    }
   ],
   "source": [
    "lai_suat_mot_nam = float(input(\"Lai suat 1 nam (%):\"))\n",
    "so_tien_gui = float(input(\"So tien gui: \"))\n",
    "so_thang_gui = int(input(\"So thang gui: \"))\n",
    "tien_lai = (so_tien_gui * so_thang_gui) * (lai_suat_mot_nam/ 100 / 12)\n",
    "tong_so_tien = so_tien_gui + tien_lai\n",
    "print(f\"Tien lai = ({so_tien_gui} * {so_thang_gui}) * ({lai_suat_mot_nam}/100/12) = {tien_lai} VND\")\n",
    "print(f\"Tong so tien = {so_tien_gui} + {tien_lai} = {tong_so_tien} VND\")"
   ]
  }
 ],
 "metadata": {
  "kernelspec": {
   "display_name": "Python 3.10.9 ('base')",
   "language": "python",
   "name": "python3"
  },
  "language_info": {
   "codemirror_mode": {
    "name": "ipython",
    "version": 3
   },
   "file_extension": ".py",
   "mimetype": "text/x-python",
   "name": "python",
   "nbconvert_exporter": "python",
   "pygments_lexer": "ipython3",
   "version": "3.10.9"
  },
  "orig_nbformat": 4,
  "vscode": {
   "interpreter": {
    "hash": "2043299c89c8cd0b4d1a6f5cf4529bd58e6a4e0fe3181a25e0d328c821cdc5c5"
   }
  }
 },
 "nbformat": 4,
 "nbformat_minor": 2
}
