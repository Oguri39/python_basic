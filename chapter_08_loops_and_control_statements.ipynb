{
 "cells": [
  {
   "cell_type": "markdown",
   "metadata": {},
   "source": [
    "<h1> Chương 8 - ĐIỀU KHIỂN LUỒNG VÀ VÒNG LẶP </h1>"
   ]
  },
  {
   "cell_type": "markdown",
   "metadata": {},
   "source": [
    "<h5>8.1. Tìm số lớn nhất – số nhỏ nhất</h5>"
   ]
  },
  {
   "cell_type": "code",
   "execution_count": 3,
   "metadata": {},
   "outputs": [
    {
     "name": "stdout",
     "output_type": "stream",
     "text": [
      "Gia tri lon nhat la: 4\n",
      "Gia tri nho nhat la: 1\n"
     ]
    }
   ],
   "source": [
    "a, b, c, d = map(int, input(\"Nhap 4 so a, b, c, d: \").split())\n",
    "max = a\n",
    "if max < b:\n",
    "    max = b\n",
    "if max < c:\n",
    "    max = c\n",
    "if max < d:\n",
    "    max = d\n",
    "print(f\"Gia tri lon nhat la: {max}\")\n",
    "\n",
    "min = a\n",
    "if min > b:\n",
    "    min = b\n",
    "if min > c:\n",
    "    min = c\n",
    "if min > d:\n",
    "    min = d\n",
    "print(f\"Gia tri nho nhat la: {min}\")"
   ]
  },
  {
   "cell_type": "markdown",
   "metadata": {},
   "source": [
    "<h5>8.2. Tìm |x|</h5>"
   ]
  },
  {
   "cell_type": "code",
   "execution_count": 4,
   "metadata": {},
   "outputs": [
    {
     "name": "stdout",
     "output_type": "stream",
     "text": [
      "|x| = 5.0\n"
     ]
    }
   ],
   "source": [
    "x = float(input(\"Nhap gia tri x:\"))\n",
    "if x > 0:\n",
    "    print(f\"|x| = {x}\")\n",
    "else:\n",
    "    print(f\"|x| = {-x}\")"
   ]
  },
  {
   "cell_type": "markdown",
   "metadata": {},
   "source": [
    "<h5>8.3. Giải phương trình bậc nhất</h5>\n",
    "<p>Yêu cầu: Viết chương trình để giải PT bậc nhất ax + b = 0</p>"
   ]
  },
  {
   "cell_type": "code",
   "execution_count": 5,
   "metadata": {},
   "outputs": [
    {
     "name": "stdout",
     "output_type": "stream",
     "text": [
      "Nghiem cua phuong tring la x = -1.3333333333333333\n"
     ]
    }
   ],
   "source": [
    "a = float(input(\"Nhap he so a:\"))\n",
    "b = float(input(\"Nhap he so b:\"))\n",
    "if a != 0:\n",
    "    print(f\"Nghiem cua phuong tring la x = {(-b)/a}\")\n",
    "else:\n",
    "    if b == 0:\n",
    "        print(\"Phuong trinh co vo so nghiem\")\n",
    "    else:\n",
    "        print(\"Phuong trinh co vo nghiem\")"
   ]
  },
  {
   "cell_type": "markdown",
   "metadata": {},
   "source": [
    "<h5>8.4.Tính diện tích tam giác</h5>\n",
    "<p>\n",
    "    Yêu cầu: Viết chương trình để tính diện tích tam giác bằng công thức Heron\n",
    "</p>\n",
    "<ul>\n",
    "<li>Gọi S là diện tích và độ dài 3 cạnh tam giác lần lượt là a,b và c</li>\n",
    "<pre>\n",
    "    𝑆 = √(𝑝(𝑝 − 𝑎)(𝑝 − 𝑏)(𝑝 − 𝑐))\n",
    "</pre>\n",
    "<li>Trong đó p là nửa chu vi tam giác, 𝑝 = (𝑎+𝑏+𝑐)/2</li>\n",
    "<li>Nhập vào a, b, c là ba cạnh của một tam giác. Tính và in ra diện tích của tam giác</li>\n",
    "</ul>\n"
   ]
  },
  {
   "cell_type": "code",
   "execution_count": 7,
   "metadata": {},
   "outputs": [
    {
     "name": "stdout",
     "output_type": "stream",
     "text": [
      "Dien tich tam giac la: 9.921567416492215\n"
     ]
    }
   ],
   "source": [
    "import math\n",
    "a, b, c = map(float, input(\"Nhap 3 canh cua tam giac: \").split())\n",
    "if a <= 0 or b <= 0 or c <=0 or a + b <= c or b + c <= a or a + c <= b:\n",
    "    print(\"3 canh vua nhap khong phai la 3 canh cua 1 tam giac\")\n",
    "else:\n",
    "    p = (a + b + c)/2\n",
    "    s = math.sqrt(p*(p-a)*(p-b)*(p-c))\n",
    "    print(f\"Dien tich tam giac la: {s}\")"
   ]
  },
  {
   "cell_type": "markdown",
   "metadata": {},
   "source": [
    "<h5>8.5. Kiểm tra năm nhuận</h5>\n",
    "<ul>\n",
    "<li>Yêu cầu: Viết chương trình để xét năm nhập vào có là năm nhuận hay không?</li>\n",
    "<li>Nhập vào năm kiểm tra, điều kiện xét: năm nhuận là năm chia hết cho 4 và không chia hết cho 100 những năm chia hết cho 400 cũng là năm nhuần.</li>\n",
    "</ul>\n"
   ]
  },
  {
   "cell_type": "code",
   "execution_count": 8,
   "metadata": {},
   "outputs": [
    {
     "name": "stdout",
     "output_type": "stream",
     "text": [
      "2004 la nam nhuan\n"
     ]
    }
   ],
   "source": [
    "year = int(input(\"Nhap nam can kiem tra: \"))\n",
    "if year < 1:\n",
    "    print(\"Nam khong xac dinh\")\n",
    "else:\n",
    "    if year % 400 == 0 or (year % 4 == 0 and year % 100 != 0):\n",
    "        print(f\"{year} la nam nhuan\")\n",
    "    else:\n",
    "        print(f\"{year} khong phai la nam nhuan\")"
   ]
  },
  {
   "cell_type": "markdown",
   "metadata": {},
   "source": [
    "<h5>8.6. Tinh cước xe taxi.</h5>\n",
    "<ul>\n",
    "<li>Yêu cầu: Viết chương trình tính cước taxi theo biểu phí cơ bản như sau:\n",
    "    <ul>\n",
    "        <li>Dành cho xe 4 chỗ: </li>\n",
    "        <pre>\n",
    "            Giá mở cửa              11.000 đồng/0.8km\n",
    "            Trong phạm vi           20km 12.100đ/km\n",
    "            Từ km thứ 21 trở đi     10.000 đồng/km\n",
    "        </pre>\n",
    "        <li>Dành cho xe 7 chỗ: </li>\n",
    "        <pre>\n",
    "            Giá mở cửa              13.000 đồng/0.8km\n",
    "            Trong phạm vi 30km      14.100đ/km\n",
    "            Từ km thứ 31 trở đi     12.000 đồng/km\n",
    "        </pre>\n",
    "        <li>Tiền chờ: 05 phút đầu được miễn phí, từ phút thứ sáu trở đi là 800đ/phút.</li>\n",
    "        <li>Loại xe chỉ nhập 4 hoặc 7.</li>\n",
    "    </ul>\n",
    "</li>\n",
    "</ul>"
   ]
  },
  {
   "cell_type": "code",
   "execution_count": 11,
   "metadata": {},
   "outputs": [
    {
     "name": "stdout",
     "output_type": "stream",
     "text": [
      "Loai xe: 4 cho\n",
      "Quang duong: 17.0 km\n",
      "Thoi gian cho: 7 phut\n",
      "Tong tien: 208620.0 VND\n"
     ]
    }
   ],
   "source": [
    "loai_xe = int(input(\"Nhap loai xe 4 cho hoac 7 cho (4,7): \"))\n",
    "if loai_xe != 4 and loai_xe != 7:\n",
    "    print(\"Yeu cau nhap 4 hoac 7\")\n",
    "else:\n",
    "    quang_duong = float(input(\"Nhap quang duong (km): \"))\n",
    "    if quang_duong <=0:\n",
    "        print(\"Quang duong khong xac dinh\")\n",
    "    else:\n",
    "        thoi_gian_cho = int(input(\"Nhap thoi gian cho (phut): \"))\n",
    "        if thoi_gian_cho < 0:\n",
    "            print(\"Thoi gian cho khong xac dinh\")\n",
    "        else:\n",
    "            tong_tien = 0.0\n",
    "            tien_cho = 0.0\n",
    "            if thoi_gian_cho > 5:\n",
    "                tien_cho = (thoi_gian_cho - 5) * 800\n",
    "            if loai_xe == 4:\n",
    "                if quang_duong >= 21:\n",
    "                    tong_tien = 11000 + (20 - 0.8)*12100 + (quang_duong - 20) * 10000 + tien_cho\n",
    "                elif quang_duong > 0.8:\n",
    "                    tong_tien = 11000 + (quang_duong - 0.8)*12100 + tien_cho\n",
    "                else:\n",
    "                    tong_tien = 11000 + tien_cho\n",
    "            if loai_xe == 7:\n",
    "                if quang_duong >= 21:\n",
    "                    tong_tien = 13000 + (20 - 0.8)*14100 + (quang_duong - 20) * 12000 + tien_cho\n",
    "                elif quang_duong > 0.8:\n",
    "                    tong_tien = 13000 + (quang_duong - 0.8)*14100 + tien_cho\n",
    "                else:\n",
    "                    tong_tien = 13000 + tien_cho\n",
    "            print(f\"Loai xe: {loai_xe} cho\")\n",
    "            print(f\"Quang duong: {quang_duong} km\")\n",
    "            print(f\"Thoi gian cho: {thoi_gian_cho} phut\")\n",
    "            print(f\"Tong tien: {tong_tien} VND\")"
   ]
  },
  {
   "cell_type": "markdown",
   "metadata": {},
   "source": [
    "<h5>8.7. Tính tiền điện</h5>\n",
    "<p>Yêu cầu: Viết chương trình tính tiền điện dành cho hộ gia đình</p>\n",
    "<p>Tính tiền điện sinh hoạt dành cho hộ gia đình phải trả khi biết số Kwh tiêu thụ và cách thức tính theo QĐ 648/QĐ-BCT áp dụng từ ngày 20/03/2019 quy định như sau:</p>"
   ]
  },
  {
   "cell_type": "markdown",
   "metadata": {},
   "source": [
    "![ex-8-7.png](./assets/chapter_08_loops_and_control_statements/ex-8-7.png)"
   ]
  },
  {
   "cell_type": "code",
   "execution_count": null,
   "metadata": {},
   "outputs": [],
   "source": [
    "kwh_dien = float(input(\"Nhap so kWh dien (kWh): \"))\n",
    "if kwh_dien < 0: \n",
    "    print(\"So kWh khong xac dinh\")\n",
    "else:\n",
    "    tong_tien = 0.0\n",
    "    if kwh_dien >= 401:\n",
    "        tong_tien = 50*1.675 + 50*1734 + 100*2014 + 100*2536 + 100*2834 + (kwh_dien - 400)*2927\n",
    "    elif kwh_dien >= 301: \n",
    "        tong_tien = 50*1.675 + 50*1734 + 100*2014 + 100*2536 + (kwh_dien - 300)*2834\n",
    "    elif kwh_dien >= 201: \n",
    "        tong_tien = 50*1.675 + 50*1734 + 100*2014 + (kwh_dien - 200)*2536\n",
    "    elif kwh_dien >= 101: \n",
    "        tong_tien = 50*1.675 + 50*1734 + (kwh_dien - 100)*2014\n",
    "    elif kwh_dien >= 51:\n",
    "        tong_tien = 50*1.675 + (kwh_dien - 50)*1734\n",
    "    else: \n",
    "        tong_tien = kwh_dien*1.675\n",
    "    print(f\"Tong tiẻn dien la: {tong_tien}\")"
   ]
  },
  {
   "cell_type": "markdown",
   "metadata": {},
   "source": [
    "<h5>8.8. Tính tiền thuê phòng của resort</h5>\n",
    "<p>Yêu cầu: Viết chương trình tính tiền thuê phòng của resort theo bảng giá sau</p>"
   ]
  },
  {
   "cell_type": "markdown",
   "metadata": {},
   "source": [
    "![ex-8-8.png](./assets/chapter_08_loops_and_control_statements/ex-8-8.png)"
   ]
  },
  {
   "cell_type": "code",
   "execution_count": 12,
   "metadata": {},
   "outputs": [
    {
     "name": "stdout",
     "output_type": "stream",
     "text": [
      "Ma 8 - VIP sea View - 4,800,000 - 10 dem - giam 30.0%: 33600000.0\n"
     ]
    }
   ],
   "source": [
    "m_1 = \"Standard - 1,260,000\" \n",
    "m_2 = \"Superior Garden View - 1,550,000\" \n",
    "m_3 = \"Superior Ocean View - 1,830,000\" \n",
    "m_4 = \"Garden View Bungalow - 1,830,000\" \n",
    "m_5 = \"Pool View Bungalow - 2,120,000\" \n",
    "m_6 = \"Family Room - 2,120,000\" \n",
    "m_7 = \"Beach Front Bungalow - 2,540,000\" \n",
    "m_8 = \"VIP sea View - 4,800,000\" \n",
    "m = int(input(\"Nhap ma phong (1 - 8):\"))\n",
    "if m > 8 and m < 1:\n",
    "    print(\"Ma phong khong hop le\")\n",
    "else:\n",
    "    so_dem = int(input(\"Nhap so dem o lai: \"))\n",
    "    if so_dem < 1:\n",
    "        print(\"So dem khong hop le\")\n",
    "    else:\n",
    "        tong_tien = 0.0\n",
    "        giam_gia = 0.0\n",
    "        if so_dem > 1 and so_dem < 4:\n",
    "            giam_gia = 0.25\n",
    "        elif so_dem >= 4:\n",
    "            giam_gia = 0.3\n",
    "        else:\n",
    "            giam_gia = 0.0\n",
    "        if m == 1:  \n",
    "            tong_tien = 1260000*so_dem*(1-giam_gia)\n",
    "            print(f\"Ma {m} - {m_1} - {so_dem} dem - giam {giam_gia*100}%: {tong_tien}\")\n",
    "        if m == 2:\n",
    "            tong_tien = 1550000*so_dem*(1-giam_gia)\n",
    "            print(f\"Ma {m} - {m_2} - {so_dem} dem - giam {giam_gia*100}%: {tong_tien}\")\n",
    "        if m == 3:\n",
    "            tong_tien = 1830000*so_dem*(1-giam_gia)\n",
    "            print(f\"Ma {m} - {m_3} - {so_dem} dem - giam {giam_gia*100}%: {tong_tien}\")\n",
    "        if m == 4:\n",
    "            tong_tien = 1830000*so_dem*(1-giam_gia)\n",
    "            print(f\"Ma {m} - {m_4} - {so_dem} dem - giam {giam_gia*100}%: {tong_tien}\")\n",
    "        if m == 5:\n",
    "            tong_tien = 2120000*so_dem*(1-giam_gia)\n",
    "            print(f\"Ma {m} - {m_5} - {so_dem} dem - giam {giam_gia*100}%: {tong_tien}\")\n",
    "        if m == 6:\n",
    "            tong_tien = 2120000*so_dem*(1-giam_gia)\n",
    "            print(f\"Ma {m} - {m_6} - {so_dem} dem - giam {giam_gia*100}%: {tong_tien}\")\n",
    "        if m == 7:\n",
    "            tong_tien = 2540000*so_dem*(1-giam_gia)\n",
    "            print(f\"Ma {m} - {m_7} - {so_dem} dem - giam {giam_gia*100}%: {tong_tien}\")\n",
    "        if m == 8:\n",
    "            tong_tien = 4800000*so_dem*(1-giam_gia)\n",
    "            print(f\"Ma {m} - {m_8} - {so_dem} dem - giam {giam_gia*100}%: {tong_tien}\")"
   ]
  },
  {
   "cell_type": "markdown",
   "metadata": {},
   "source": [
    "<h5>8.9. Yêu cầu: Xây dựng chương trình Count down.</h5>"
   ]
  },
  {
   "cell_type": "code",
   "execution_count": 1,
   "metadata": {},
   "outputs": [
    {
     "name": "stdout",
     "output_type": "stream",
     "text": [
      "10\n",
      "9\n",
      "8\n",
      "7\n",
      "6\n",
      "5\n",
      "4\n",
      "3\n",
      "2\n",
      "1\n",
      "0\n",
      "Start!!\n"
     ]
    }
   ],
   "source": [
    "n = 10\n",
    "while n > -1:\n",
    "    print(n)\n",
    "    n = n - 1\n",
    "else:\n",
    "    print(\"Start!!\")"
   ]
  },
  {
   "cell_type": "markdown",
   "metadata": {},
   "source": [
    "<h5>8.10. Tính S</h5>\n",
    "<p>Yêu cầu: Xây dựng chương trình tính và in ra kết quả của biểu thức.</p>\n",
    "<ul>\n",
    "    <li>Nhập vào một số nguyên n và một số thực x. Tính và in ra kết quả sau: </li>\n",
    "    <pre>\n",
    "        S = (x^2 + 1)^n\n",
    "    </pre>\n",
    "</ul>"
   ]
  },
  {
   "cell_type": "code",
   "execution_count": 3,
   "metadata": {},
   "outputs": [
    {
     "name": "stdout",
     "output_type": "stream",
     "text": [
      "S = (2.5^2 + 1)^3 = 381.078125\n"
     ]
    }
   ],
   "source": [
    "n = int(input(\"Nhap so nguyen n: \"))\n",
    "x = float(input(\"Nhap so thuc x: \"))\n",
    "s = (x**2 + 1)**n\n",
    "print(f\"S = ({x}^2 + 1)^{n} = {s}\")"
   ]
  },
  {
   "cell_type": "markdown",
   "metadata": {},
   "source": [
    "<h5>8.11. Tính A</h5>\n",
    "<p>Yêu cầu: Xây dựng chương trình tính và in ra kết quả của biểu thức.</p>\n",
    "<ul>\n",
    "    <li>Nhập vào một số nguyên n và một số thực x. Tính và in ra kết quả của biểu thức sau: </li>\n",
    "    <pre>\n",
    "        A = (x^2 + x + 1)^n + (x^2- x + 1)^n\n",
    "    </pre>\n",
    "</ul>"
   ]
  },
  {
   "cell_type": "code",
   "execution_count": 4,
   "metadata": {},
   "outputs": [
    {
     "name": "stdout",
     "output_type": "stream",
     "text": [
      "A = (2.5^2 + 2.5 + 1)^3 + (2.5^2- 2.5 + 1)^3 = 1034.03125\n"
     ]
    }
   ],
   "source": [
    "n = int(input(\"Nhap so nguyen n: \"))\n",
    "x = float(input(\"Nhap so thuc x: \"))\n",
    "a = (x**2 + x + 1)**n + (x**2 - x + 1)**n\n",
    "print(f\"A = ({x}^2 + {x} + 1)^{n} + ({x}^2- {x} + 1)^{n} = {a}\")"
   ]
  },
  {
   "cell_type": "markdown",
   "metadata": {},
   "source": [
    "<h5>8.12. Kiểm tra số nguyên tố</h5>\n",
    "<p>Yêu cầu: Xây dựng chương trình kiểm tra số nguyên tố</p>\n",
    "<ul>\n",
    "    <li>Nhập vào một số x kiểm tra xem x có phải là số nguyên tố hay không. (Số nguyên tố là số chỉ chia hết cho 1 và chính nó)</li>\n",
    "</ul>"
   ]
  },
  {
   "cell_type": "code",
   "execution_count": 7,
   "metadata": {},
   "outputs": [
    {
     "name": "stdout",
     "output_type": "stream",
     "text": [
      "6 khong phai so nguyen to\n"
     ]
    }
   ],
   "source": [
    "x = int(input(\"Nhap vao so nguyen duong x: \"))\n",
    "if x < 2:\n",
    "    print(f\"{x} khong phai so nguyen to\")\n",
    "else:\n",
    "    for i in range(2,x):\n",
    "        if x%i == 0:\n",
    "            print(f\"{x} khong phai so nguyen to\")\n",
    "            break\n",
    "    else:\n",
    "        print(f\"{x} la so nguyen to\")"
   ]
  },
  {
   "cell_type": "markdown",
   "metadata": {},
   "source": [
    "<h5>8.13. Tính giá trị biểu thức</h5>\n",
    "<p>Yêu cầu: Xây dựng chương trình tính và in ra kết quả của các biểu thức.</p>\n",
    "<ul>\n",
    "    <li>Nhập vào một số nguyên n, tính các biểu thức sau đây:\n",
    "        <ul>\n",
    "            <li>A = tổng các số lẻ nhỏ hơn hay bằng n</li>\n",
    "            <li>B = tổng các số chẵn nhỏ hơn hay bằng n</li>\n",
    "            <li>C = tích các số từ 1 đến n</li>\n",
    "            <li>D = tích các số chia hết cho 3 nhỏ hơn hay bằng n</li>\n",
    "            <li>E = tổng các số nguyên tố nhỏ hơn hay bằng n</li>\n",
    "            <li>F = tổng chuỗi đan dấu</li>\n",
    "        </ul>\n",
    "    </li>\n",
    "</ul>"
   ]
  },
  {
   "cell_type": "code",
   "execution_count": 8,
   "metadata": {},
   "outputs": [
    {
     "name": "stdout",
     "output_type": "stream",
     "text": [
      "A = 25\n"
     ]
    }
   ],
   "source": [
    "#A = tổng các số lẻ nhỏ hơn hay bằng n\n",
    "n = int(input(\"Nhap vao so nguyen duong n: \"))\n",
    "tong = 0\n",
    "for i in range(0, n+1):\n",
    "    if i%2!=0:\n",
    "        tong = tong + i\n",
    "print(f\"A = {tong}\")"
   ]
  },
  {
   "cell_type": "code",
   "execution_count": 9,
   "metadata": {},
   "outputs": [
    {
     "name": "stdout",
     "output_type": "stream",
     "text": [
      "B = 30\n"
     ]
    }
   ],
   "source": [
    "#B = tổng các số chẵn nhỏ hơn hay bằng n\n",
    "n = int(input(\"Nhap vao so nguyen duong n: \"))\n",
    "tong = 0\n",
    "for i in range(0, n+1):\n",
    "    if i%2==0:\n",
    "        tong = tong + i\n",
    "print(f\"B = {tong}\")"
   ]
  },
  {
   "cell_type": "code",
   "execution_count": 10,
   "metadata": {},
   "outputs": [
    {
     "name": "stdout",
     "output_type": "stream",
     "text": [
      "C = 3628800\n"
     ]
    }
   ],
   "source": [
    "#C = tích các số từ 1 đến n\n",
    "n = int(input(\"Nhap vao so nguyen duong n: \"))\n",
    "tich = 1\n",
    "for i in range(1, n+1):\n",
    "    tich = tich*i\n",
    "print(f\"C = {tich}\")"
   ]
  },
  {
   "cell_type": "code",
   "execution_count": 11,
   "metadata": {},
   "outputs": [
    {
     "name": "stdout",
     "output_type": "stream",
     "text": [
      "D = 162\n"
     ]
    }
   ],
   "source": [
    "#D = tích các số chia hết cho 3 nhỏ hơn hay bằng n\n",
    "n = int(input(\"Nhap vao so nguyen duong n: \"))\n",
    "tich = 1\n",
    "for i in range(1, n+1):\n",
    "    if i%3==0:\n",
    "        tich = tich*i\n",
    "print(f\"D = {tich}\")"
   ]
  },
  {
   "cell_type": "code",
   "execution_count": 12,
   "metadata": {},
   "outputs": [
    {
     "name": "stdout",
     "output_type": "stream",
     "text": [
      "E = 17\n"
     ]
    }
   ],
   "source": [
    "#E = tổng các số nguyên tố nhỏ hơn hay bằng n\n",
    "n = int(input(\"Nhap vao so nguyen duong n: \"))\n",
    "tong = 0\n",
    "for i in range(2, n+1):\n",
    "    for j in range(2,i):\n",
    "        if i%j == 0:\n",
    "            break\n",
    "    else:\n",
    "        tong = tong + i\n",
    "print(f\"E = {tong}\")"
   ]
  },
  {
   "cell_type": "code",
   "execution_count": 20,
   "metadata": {},
   "outputs": [
    {
     "name": "stdout",
     "output_type": "stream",
     "text": [
      "F = 0.6456349206349207\n"
     ]
    }
   ],
   "source": [
    "#F = tổng chuỗi đan dấu\n",
    "n = int(input(\"Nhap vao so nguyen duong n: \"))\n",
    "tong = 0.0\n",
    "flag = True\n",
    "for i in range(1, n+1):\n",
    "    if flag == True:\n",
    "        tong = tong + 1.0/i\n",
    "        flag = False\n",
    "    else:\n",
    "        tong = tong - 1.0/i\n",
    "        flag = True\n",
    "print(f\"F = {tong}\")"
   ]
  },
  {
   "cell_type": "markdown",
   "metadata": {},
   "source": [
    "<h5>8.14. Tính tổng của N số nguyên nhập vào</h5>\n",
    "<p>Yêu cầu: Xây dựng chương trình tính tổng S của N số nguyên nhập vào</p>"
   ]
  },
  {
   "cell_type": "code",
   "execution_count": 24,
   "metadata": {},
   "outputs": [
    {
     "name": "stdout",
     "output_type": "stream",
     "text": [
      "Tong cac so vua nhap: 22\n"
     ]
    }
   ],
   "source": [
    "n = int(input(\"Nhap so cac so nguyen can tinh: \"))\n",
    "if n < 0:\n",
    "    print(\"n khong hop le\")\n",
    "else:\n",
    "    tong = 0\n",
    "    for i in range(1,n+1):\n",
    "        k = int(input(f\"Nhap so nguyen thu {i}: \"))\n",
    "        tong = tong + k\n",
    "    print(f\"Tong cac so vua nhap: {tong}\")"
   ]
  },
  {
   "cell_type": "markdown",
   "metadata": {},
   "source": [
    "<h5>8.15. Tính tổng của các số nguyên nhập vào, chấm dứt khi nhập số 0</h5>\n",
    "<p>Yêu cầu: Xây dựng chương trình tính tổng S của các số nguyên nhập vào, chấm dứt khi nhập số 0</p>"
   ]
  },
  {
   "cell_type": "code",
   "execution_count": 23,
   "metadata": {},
   "outputs": [
    {
     "name": "stdout",
     "output_type": "stream",
     "text": [
      "1\n",
      "5\n",
      "2\n",
      "7\n",
      "3\n",
      "7\n",
      "0\n",
      "Tong cac so vua nhap: 25\n"
     ]
    }
   ],
   "source": [
    "tong = 0\n",
    "while True:\n",
    "    n = int(input(\"Nhap so nguyen: \"))\n",
    "    print(n)\n",
    "    tong = tong + n\n",
    "    if n == 0:\n",
    "        break\n",
    "print(f\"Tong cac so vua nhap: {tong}\")"
   ]
  },
  {
   "cell_type": "markdown",
   "metadata": {},
   "source": [
    "<h5>8.16. Yêu cầu: Xây dựng chương trình nhập từ bàn phím 2 số nguyên a, b. Tìm UCLN(a,b).</h5>"
   ]
  },
  {
   "cell_type": "code",
   "execution_count": 26,
   "metadata": {},
   "outputs": [
    {
     "name": "stdout",
     "output_type": "stream",
     "text": [
      "UCLN(9,6) = 3\n"
     ]
    }
   ],
   "source": [
    "a = int(input(\"Nhap so nguyen a: \"))\n",
    "b = int(input(\"Nhap so nguyen b: \"))\n",
    "if a < 0 or b < 0:\n",
    "    print(\"a, b phai lon hon 0\")\n",
    "min = a\n",
    "if min > b:\n",
    "    min = b\n",
    "for i in range(min, 0, -1):\n",
    "    if a%i == 0 and b%i == 0:\n",
    "        print(f\"UCLN({a},{b}) = {i}\")\n",
    "        break"
   ]
  },
  {
   "cell_type": "markdown",
   "metadata": {},
   "source": [
    "<h5>8.17. Yêu cầu: Xây dựng chương trình nhập từ bàn phím 2 số nguyên a, b. Tìm BCLN(a,b).</h5>"
   ]
  },
  {
   "cell_type": "code",
   "execution_count": 27,
   "metadata": {},
   "outputs": [
    {
     "name": "stdout",
     "output_type": "stream",
     "text": [
      "BCNN(5,8) = 40\n"
     ]
    }
   ],
   "source": [
    "a = int(input(\"Nhap so nguyen a: \"))\n",
    "b = int(input(\"Nhap so nguyen b: \"))\n",
    "if a < 0 or b < 0:\n",
    "    print(\"a, b phai lon hon 0\")\n",
    "max = a\n",
    "if max < b:\n",
    "    max = b\n",
    "while True:\n",
    "    if max % a == 0 and max % b == 0:\n",
    "        print(f\"BCNN({a},{b}) = {max}\")\n",
    "        break\n",
    "    max = max + 1"
   ]
  },
  {
   "cell_type": "markdown",
   "metadata": {},
   "source": [
    "<h5>8.18. Kiểm tra số hoàn hảo</h5>\n",
    "<p>Nhập vào một số x kiểm tra xem x có phải là số hoàn hảo hay không. (Số hoàn hảo là số tự nhiên bằng tổng tất cả các ước số của nó, gồm cả số 1.)</p>"
   ]
  },
  {
   "cell_type": "code",
   "execution_count": 28,
   "metadata": {},
   "outputs": [
    {
     "name": "stdout",
     "output_type": "stream",
     "text": [
      "6 la so hoan hao\n"
     ]
    }
   ],
   "source": [
    "x = int(input(\"Nhap vao so nguyen duong x: \"))\n",
    "if x < 0:\n",
    "    print(\"x phai la so nguyen duong\")\n",
    "else:\n",
    "    if x == 0:\n",
    "        print(\"0 khong phai la so hoan hao\")\n",
    "    tong = 0\n",
    "    for i in range(1, x):\n",
    "        if x%i==0:\n",
    "            tong = tong + i\n",
    "    if tong == x:\n",
    "        print(f\"{x} la so hoan hao\")\n",
    "    else:\n",
    "        print(f\"{x} khong phai so hoan hao\")"
   ]
  },
  {
   "cell_type": "markdown",
   "metadata": {},
   "source": [
    "<h5>8.19. Đảo ngược số</h5>\n",
    "<p>Yêu cầu: Xây dựng chương trình đảo ngược một dãy số với số lượng tùy ý bắt đầu là số 1 và chỉ hiện ra các số lẻ</p>\n",
    "<pre>\n",
    "        Ví dụ:\n",
    "        Nhập vào: 1 2 3 4 5 6 7 8 9 10 11 12 13 14 15 16 17 18 19 20\n",
    "        In ra: 19 17 15 13 11 9 7 5 3 1\n",
    "</pre>"
   ]
  },
  {
   "cell_type": "code",
   "execution_count": 56,
   "metadata": {},
   "outputs": [
    {
     "name": "stdout",
     "output_type": "stream",
     "text": [
      "21 17 99 13 27 11 9 7 5 3 1\n"
     ]
    }
   ],
   "source": [
    "day_so = input(\"Nhap vao mot day so bat ky, moi so cach nhau boi dau cach: \")\n",
    "#Nhap vao day so \"1 3 4 5 6 7 9 10 11 27 13 14 99 16 17 18 21 20\"\n",
    "if day_so[0] != \"1\":\n",
    "    print(\"Day so phai bat dau tu so 1\")\n",
    "else:\n",
    "    day_so_nguoc = day_so[::-1]\n",
    "    pos = 0\n",
    "    count = 0\n",
    "    day_so_moi = \"\"\n",
    "    for i in day_so_nguoc:\n",
    "        if i == \" \":\n",
    "            k = day_so_nguoc[pos - count : pos]\n",
    "            k = k[::-1]\n",
    "            if int(k) % 2 != 0:\n",
    "                day_so_moi = day_so_moi + k + \" \"\n",
    "            count = 0\n",
    "        else:\n",
    "            count = count + 1\n",
    "        pos = pos + 1\n",
    "    day_so_moi = day_so_moi + \"1\"\n",
    "    print(day_so_moi)"
   ]
  },
  {
   "cell_type": "markdown",
   "metadata": {},
   "source": [
    "<h5>8.20. Hàm e^x có hai triển Taylor là : 𝒆^𝒙 ≈ 𝟏 + 𝒙 + (𝒙^𝟐)/(𝟐!) + (𝒙^𝟑)/(𝟑!) + ⋯ + (𝒙^𝒏)/(𝒏!)</h5>"
   ]
  },
  {
   "cell_type": "code",
   "execution_count": 57,
   "metadata": {},
   "outputs": [
    {
     "name": "stdout",
     "output_type": "stream",
     "text": [
      "e^10 = 186.7249486140241\n"
     ]
    }
   ],
   "source": [
    "n = int(input(\"Nhap so nguyen duong n: \"))\n",
    "x = int(input(\"Nhap so nguyen x: \"))\n",
    "if n < 0:\n",
    "    print(\"n khong hop le\")\n",
    "else:\n",
    "    tong = 0\n",
    "    for i in range(1,n+1):\n",
    "        giai_thua = 1\n",
    "        for j in range(1,i+1):\n",
    "            giai_thua = giai_thua*i\n",
    "        tong = tong + (x**i)/giai_thua\n",
    "    print(f\"e^{x} = {tong}\")"
   ]
  }
 ],
 "metadata": {
  "kernelspec": {
   "display_name": "Python 3.10.9 ('base')",
   "language": "python",
   "name": "python3"
  },
  "language_info": {
   "codemirror_mode": {
    "name": "ipython",
    "version": 3
   },
   "file_extension": ".py",
   "mimetype": "text/x-python",
   "name": "python",
   "nbconvert_exporter": "python",
   "pygments_lexer": "ipython3",
   "version": "3.10.9"
  },
  "orig_nbformat": 4,
  "vscode": {
   "interpreter": {
    "hash": "2043299c89c8cd0b4d1a6f5cf4529bd58e6a4e0fe3181a25e0d328c821cdc5c5"
   }
  }
 },
 "nbformat": 4,
 "nbformat_minor": 2
}
