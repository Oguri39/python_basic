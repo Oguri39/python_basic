{
 "cells": [
  {
   "cell_type": "markdown",
   "metadata": {},
   "source": [
    "<h1> Chương 5 - TỔNG QUAN VỀ NGÔN NGỮ PYTHON </h1>"
   ]
  },
  {
   "cell_type": "markdown",
   "metadata": {},
   "source": [
    "<h5> 1.1. In ra màn hình dòng chữ “HELLO” như sau: </h5>\n",
    "<pre>\n",
    "**  **  ******  **      **       ******\n",
    "**  **  **      **      **       **  **\n",
    "******  ******  **      **       **  **\n",
    "**  **  **      **      **       **  **\n",
    "**  **  ******  ******  *******  ******\n",
    "</pre>"
   ]
  },
  {
   "cell_type": "code",
   "execution_count": 1,
   "metadata": {},
   "outputs": [
    {
     "name": "stdout",
     "output_type": "stream",
     "text": [
      "**  **  ******  **      **       ******\n",
      "**  **  **      **      **       **  **\n",
      "******  ******  **      **       **  **\n",
      "**  **  **      **      **       **  **\n",
      "**  **  ******  ******  *******  ******\n"
     ]
    }
   ],
   "source": [
    "print(\"**  **  ******  **      **       ******\")\n",
    "print(\"**  **  **      **      **       **  **\")\n",
    "print(\"******  ******  **      **       **  **\")\n",
    "print(\"**  **  **      **      **       **  **\")\n",
    "print(\"**  **  ******  ******  *******  ******\")"
   ]
  },
  {
   "cell_type": "markdown",
   "metadata": {},
   "source": [
    "<h5> 1.2. Tính toán đơn giản các phép toán số học </h5>\n",
    "<p>Yêu cầu: Viết chương trình tính toán đơn giản, kết quả xuất ra như sau:</p>\n",
    "<pre>\n",
    "x = 10, y = 5\n",
    "Tong x+y = 15\n",
    "Hieu x-y = 5\n",
    "Tich x*y = 50\n",
    "Thuong x/y = 2.0\n",
    "</pre>\n"
   ]
  },
  {
   "cell_type": "code",
   "execution_count": 2,
   "metadata": {},
   "outputs": [
    {
     "name": "stdout",
     "output_type": "stream",
     "text": [
      "x = 10, y = 5\n",
      "Tong x+y = 15\n",
      "Hieu x-y = 5\n",
      "Tich x*y = 50\n",
      "Thuong x/y = 2.0\n"
     ]
    }
   ],
   "source": [
    "x = 10\n",
    "y = 5\n",
    "print(f\"x = {x}, y = {y}\")\n",
    "print(f\"Tong x+y = {x+y}\")\n",
    "print(f\"Hieu x-y = {x-y}\")\n",
    "print(f\"Tich x*y = {x*y}\")\n",
    "print(f\"Thuong x/y = {x/y}\")"
   ]
  },
  {
   "cell_type": "markdown",
   "metadata": {},
   "source": [
    "<h5> 1.3. Mua hàng </h5>\n",
    "<p>Yêu cầu: Viết chương trình tính toán đơn giản, kết quả xuất ra như sau:</p>\n",
    "<pre>\n",
    "Ten hang: Sữa hộp Vina Milk\n",
    "So luong: 5\n",
    "Don gia: 25000\n",
    "Tien phai tra: 125000 vnd\n",
    "</pre>"
   ]
  },
  {
   "cell_type": "code",
   "execution_count": 3,
   "metadata": {},
   "outputs": [
    {
     "name": "stdout",
     "output_type": "stream",
     "text": [
      "Ten hang: Sữa hộp Vina Milk\n",
      "So luong: 5\n",
      "Don gia: 25000\n",
      "Tien phai tra: 125000 vnd\n"
     ]
    }
   ],
   "source": [
    "ten_hang = \"Sữa hộp Vina Milk\"\n",
    "so_luong = 5\n",
    "don_gia = 25000\n",
    "tien_phai_tra = so_luong*don_gia\n",
    "print(f\"Ten hang: {ten_hang}\")\n",
    "print(f\"So luong: {so_luong}\")\n",
    "print(f\"Don gia: {don_gia}\")\n",
    "print(f\"Tien phai tra: {tien_phai_tra} vnd\")"
   ]
  }
 ],
 "metadata": {
  "kernelspec": {
   "display_name": "Python 3.10.9 ('base')",
   "language": "python",
   "name": "python3"
  },
  "language_info": {
   "codemirror_mode": {
    "name": "ipython",
    "version": 3
   },
   "file_extension": ".py",
   "mimetype": "text/x-python",
   "name": "python",
   "nbconvert_exporter": "python",
   "pygments_lexer": "ipython3",
   "version": "3.10.9"
  },
  "orig_nbformat": 4,
  "vscode": {
   "interpreter": {
    "hash": "2043299c89c8cd0b4d1a6f5cf4529bd58e6a4e0fe3181a25e0d328c821cdc5c5"
   }
  }
 },
 "nbformat": 4,
 "nbformat_minor": 2
}
