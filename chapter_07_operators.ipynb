{
 "cells": [
  {
   "cell_type": "markdown",
   "metadata": {},
   "source": [
    "<h1> Chương 7 - TOÁN TỬ CƠ BẢN TRONG PYTHON </h1>"
   ]
  },
  {
   "cell_type": "markdown",
   "metadata": {},
   "source": [
    "<h5>7.1. Tính giá trị biểu thức</h5>\n",
    "<p>Xây dựng chương trình tính và in ra tổng của biểu thức S.</p>\n",
    "<pre>\n",
    "    Nhập vào một số nguyên x. \n",
    "    Tính và in ra S = 1 + x + (x^3)/3 + (x^5)/5\n",
    "</pre>\n"
   ]
  },
  {
   "cell_type": "code",
   "execution_count": 1,
   "metadata": {},
   "outputs": [
    {
     "name": "stdout",
     "output_type": "stream",
     "text": [
      "672.6666666666666\n"
     ]
    }
   ],
   "source": [
    "x = int(input(\"Nhap vao so nguyen x: \"))\n",
    "S = 1 + x + (x**3)/3 + (x**5)/5\n",
    "print(S)"
   ]
  },
  {
   "cell_type": "markdown",
   "metadata": {},
   "source": [
    "<h5>7.2. Tính kết quả 2</h5>\n",
    "<p>\n",
    "Hãy cho biết kết quả xuất ra của đoạn chương trình sau:\n",
    "</p>"
   ]
  },
  {
   "cell_type": "markdown",
   "metadata": {},
   "source": [
    "![ex-7-2.png](./assets/chapter_07_operators/ex-7-2.png)"
   ]
  },
  {
   "cell_type": "code",
   "execution_count": 3,
   "metadata": {},
   "outputs": [
    {
     "name": "stdout",
     "output_type": "stream",
     "text": [
      "result =  3\n"
     ]
    }
   ],
   "source": [
    "result = 1 + 2\n",
    "print(\"result = \", result) "
   ]
  },
  {
   "cell_type": "code",
   "execution_count": 4,
   "metadata": {},
   "outputs": [
    {
     "name": "stdout",
     "output_type": "stream",
     "text": [
      "result =  2\n"
     ]
    }
   ],
   "source": [
    "original_result = result\n",
    "result = result - 1\n",
    "print(\"result = \", result)"
   ]
  },
  {
   "cell_type": "code",
   "execution_count": 5,
   "metadata": {},
   "outputs": [
    {
     "name": "stdout",
     "output_type": "stream",
     "text": [
      "result =  4\n"
     ]
    }
   ],
   "source": [
    "result = result * 2\n",
    "original_result = result\n",
    "print(\"result = \", result)"
   ]
  },
  {
   "cell_type": "code",
   "execution_count": 6,
   "metadata": {},
   "outputs": [
    {
     "name": "stdout",
     "output_type": "stream",
     "text": [
      "result =  64\n"
     ]
    }
   ],
   "source": [
    "result = result ** 3\n",
    "original_result = result\n",
    "print(\"result = \", result)"
   ]
  },
  {
   "cell_type": "code",
   "execution_count": 7,
   "metadata": {},
   "outputs": [
    {
     "name": "stdout",
     "output_type": "stream",
     "text": [
      "result =  72\n"
     ]
    }
   ],
   "source": [
    "result = result + 8\n",
    "original_result = result\n",
    "print(\"result = \", result)"
   ]
  },
  {
   "cell_type": "code",
   "execution_count": 8,
   "metadata": {},
   "outputs": [
    {
     "name": "stdout",
     "output_type": "stream",
     "text": [
      "result =  2\n"
     ]
    }
   ],
   "source": [
    "result = result % 7\n",
    "original_result = result\n",
    "print(\"result = \", result)"
   ]
  },
  {
   "cell_type": "code",
   "execution_count": 9,
   "metadata": {},
   "outputs": [
    {
     "name": "stdout",
     "output_type": "stream",
     "text": [
      "result =  1\n"
     ]
    }
   ],
   "source": [
    "result = result // 2\n",
    "original_result = result\n",
    "print(\"result = \", result)\n",
    "\n",
    "#What the fuck is original_result for?"
   ]
  },
  {
   "cell_type": "markdown",
   "metadata": {},
   "source": [
    "<h5>7.3. Tính kết quả 3</h5>\n",
    "<p>\n",
    "Yêu cầu: Hãy cho biết kết quả xuất ra của đoạn chương trình sau:\n",
    "</p>"
   ]
  },
  {
   "cell_type": "markdown",
   "metadata": {},
   "source": [
    "![ex-7-3.png](./assets/chapter_07_operators/ex-7-3.png)"
   ]
  },
  {
   "cell_type": "code",
   "execution_count": 10,
   "metadata": {},
   "outputs": [
    {
     "name": "stdout",
     "output_type": "stream",
     "text": [
      "result =  5\n"
     ]
    }
   ],
   "source": [
    "result = 5\n",
    "print(\"result = \", result)"
   ]
  },
  {
   "cell_type": "code",
   "execution_count": 11,
   "metadata": {},
   "outputs": [
    {
     "name": "stdout",
     "output_type": "stream",
     "text": [
      "result =  4\n"
     ]
    }
   ],
   "source": [
    "result -= 1\n",
    "print(\"result = \", result)"
   ]
  },
  {
   "cell_type": "code",
   "execution_count": 12,
   "metadata": {},
   "outputs": [
    {
     "name": "stdout",
     "output_type": "stream",
     "text": [
      "result =  7\n"
     ]
    }
   ],
   "source": [
    "result += 3\n",
    "print(\"result = \", result)"
   ]
  },
  {
   "cell_type": "code",
   "execution_count": 13,
   "metadata": {},
   "outputs": [
    {
     "name": "stdout",
     "output_type": "stream",
     "text": [
      "result =  -7\n"
     ]
    }
   ],
   "source": [
    "result = - result\n",
    "print(\"result = \", result)"
   ]
  },
  {
   "cell_type": "code",
   "execution_count": 14,
   "metadata": {},
   "outputs": [
    {
     "name": "stdout",
     "output_type": "stream",
     "text": [
      "result =  False\n"
     ]
    }
   ],
   "source": [
    "result = True\n",
    "print(\"result = \", not result)"
   ]
  },
  {
   "cell_type": "markdown",
   "metadata": {},
   "source": [
    "<h5>7.4. Tính kết quả 4</h5>\n",
    "<p>\n",
    "Yêu cầu: Hãy cho biết kết quả xuất ra của đoạn chương trình sau:\n",
    "</p>"
   ]
  },
  {
   "cell_type": "markdown",
   "metadata": {},
   "source": [
    "![ex-7-4.png](./assets/chapter_07_operators/ex-7-4.png)"
   ]
  },
  {
   "cell_type": "code",
   "execution_count": 15,
   "metadata": {},
   "outputs": [
    {
     "name": "stdout",
     "output_type": "stream",
     "text": [
      "x = 10, y = 4\n"
     ]
    }
   ],
   "source": [
    "x = 10\n",
    "y = 4\n",
    "print(\"x = %d, y = %d\"%(x,y))"
   ]
  },
  {
   "cell_type": "code",
   "execution_count": 16,
   "metadata": {},
   "outputs": [
    {
     "name": "stdout",
     "output_type": "stream",
     "text": [
      "x == y is False\n"
     ]
    }
   ],
   "source": [
    "equivelence = x == y\n",
    "print(\"x == y is\", equivelence)"
   ]
  },
  {
   "cell_type": "code",
   "execution_count": 17,
   "metadata": {},
   "outputs": [
    {
     "name": "stdout",
     "output_type": "stream",
     "text": [
      "x != y is True\n"
     ]
    }
   ],
   "source": [
    "equivelence = x != y\n",
    "print(\"x != y is\", equivelence)"
   ]
  },
  {
   "cell_type": "code",
   "execution_count": 18,
   "metadata": {},
   "outputs": [
    {
     "name": "stdout",
     "output_type": "stream",
     "text": [
      "x > y is True\n"
     ]
    }
   ],
   "source": [
    "equivelence = x > y\n",
    "print(\"x > y is\", equivelence)"
   ]
  },
  {
   "cell_type": "code",
   "execution_count": 19,
   "metadata": {},
   "outputs": [
    {
     "name": "stdout",
     "output_type": "stream",
     "text": [
      "x = 8, y = 9\n"
     ]
    }
   ],
   "source": [
    "x = 8\n",
    "y = 9\n",
    "print(\"x = %d, y = %d\"%(x,y))"
   ]
  },
  {
   "cell_type": "code",
   "execution_count": 20,
   "metadata": {},
   "outputs": [
    {
     "name": "stdout",
     "output_type": "stream",
     "text": [
      "x >= y is False\n"
     ]
    }
   ],
   "source": [
    "equivelence = x >= y\n",
    "print(\"x >= y is\", equivelence)"
   ]
  },
  {
   "cell_type": "code",
   "execution_count": 21,
   "metadata": {},
   "outputs": [
    {
     "name": "stdout",
     "output_type": "stream",
     "text": [
      "x < y is True\n"
     ]
    }
   ],
   "source": [
    "equivelence = x < y\n",
    "print(\"x < y is\", equivelence)"
   ]
  },
  {
   "cell_type": "code",
   "execution_count": 22,
   "metadata": {},
   "outputs": [
    {
     "name": "stdout",
     "output_type": "stream",
     "text": [
      "x <= y is True\n"
     ]
    }
   ],
   "source": [
    "equivelence = x <= y\n",
    "print(\"x <= y is\", equivelence)"
   ]
  },
  {
   "cell_type": "markdown",
   "metadata": {},
   "source": [
    "<h5>7.5. Tính kết quả 5</h5>\n",
    "<p>\n",
    "Yêu cầu: Hãy cho biết kết quả xuất ra của đoạn chương trình sau:\n",
    "</p>"
   ]
  },
  {
   "cell_type": "markdown",
   "metadata": {},
   "source": [
    "![ex-7-5.png](./assets/chapter_07_operators/ex-7-5.png)"
   ]
  },
  {
   "cell_type": "code",
   "execution_count": null,
   "metadata": {},
   "outputs": [],
   "source": [
    "x = 15\n",
    "x = 12"
   ]
  },
  {
   "cell_type": "code",
   "execution_count": 24,
   "metadata": {},
   "outputs": [
    {
     "name": "stdout",
     "output_type": "stream",
     "text": [
      "Binary of x = 0b1000 , Binary of y =  0b1001\n"
     ]
    }
   ],
   "source": [
    "print(\"Binary of x =\", bin(x), \", Binary of y = \", bin(y))"
   ]
  },
  {
   "cell_type": "code",
   "execution_count": 25,
   "metadata": {},
   "outputs": [
    {
     "name": "stdout",
     "output_type": "stream",
     "text": [
      "x & y = 0b1000\n"
     ]
    }
   ],
   "source": [
    "print(\"x & y =\", bin(x & y))"
   ]
  },
  {
   "cell_type": "code",
   "execution_count": 26,
   "metadata": {},
   "outputs": [
    {
     "name": "stdout",
     "output_type": "stream",
     "text": [
      "x | y = 0b1001\n"
     ]
    }
   ],
   "source": [
    "print(\"x | y =\", bin(x | y))"
   ]
  },
  {
   "cell_type": "code",
   "execution_count": 27,
   "metadata": {},
   "outputs": [
    {
     "name": "stdout",
     "output_type": "stream",
     "text": [
      "x ^ y = 0b1\n"
     ]
    }
   ],
   "source": [
    "print(\"x ^ y =\", bin(x ^ y))"
   ]
  },
  {
   "cell_type": "code",
   "execution_count": 28,
   "metadata": {},
   "outputs": [
    {
     "name": "stdout",
     "output_type": "stream",
     "text": [
      "~x = -0b1001\n"
     ]
    }
   ],
   "source": [
    "print(\"~x =\", bin(~x))"
   ]
  },
  {
   "cell_type": "code",
   "execution_count": 29,
   "metadata": {},
   "outputs": [
    {
     "name": "stdout",
     "output_type": "stream",
     "text": [
      "x << 2 = 0b100000\n"
     ]
    }
   ],
   "source": [
    "print(\"x << 2 =\", bin(x << 2))"
   ]
  },
  {
   "cell_type": "code",
   "execution_count": 30,
   "metadata": {},
   "outputs": [
    {
     "name": "stdout",
     "output_type": "stream",
     "text": [
      "y >> 2 = 0b10\n"
     ]
    }
   ],
   "source": [
    "print(\"y >> 2 =\", bin(y >> 2))"
   ]
  },
  {
   "cell_type": "markdown",
   "metadata": {},
   "source": [
    "<h5>7.6. Tính kết quả 6</h5>\n",
    "<p>\n",
    "Yêu cầu: Hãy cho biết kết quả xuất ra của đoạn chương trình sau:\n",
    "</p>"
   ]
  },
  {
   "cell_type": "markdown",
   "metadata": {},
   "source": [
    "![ex-7-6.png](./assets/chapter_07_operators/ex-7-6.png)\n"
   ]
  },
  {
   "cell_type": "code",
   "execution_count": 35,
   "metadata": {},
   "outputs": [],
   "source": [
    "x = True\n",
    "y = False"
   ]
  },
  {
   "cell_type": "code",
   "execution_count": 36,
   "metadata": {},
   "outputs": [
    {
     "name": "stdout",
     "output_type": "stream",
     "text": [
      "x and y : False\n"
     ]
    }
   ],
   "source": [
    "print(\"x and y :\", x and y)"
   ]
  },
  {
   "cell_type": "code",
   "execution_count": 37,
   "metadata": {},
   "outputs": [
    {
     "name": "stdout",
     "output_type": "stream",
     "text": [
      "x or y : True\n"
     ]
    }
   ],
   "source": [
    "print(\"x or y :\", x or y)"
   ]
  },
  {
   "cell_type": "code",
   "execution_count": 38,
   "metadata": {},
   "outputs": [
    {
     "name": "stdout",
     "output_type": "stream",
     "text": [
      "not x : False\n"
     ]
    }
   ],
   "source": [
    "print(\"not x :\", not x)"
   ]
  },
  {
   "cell_type": "code",
   "execution_count": 39,
   "metadata": {},
   "outputs": [
    {
     "name": "stdout",
     "output_type": "stream",
     "text": [
      "x is y : False\n"
     ]
    }
   ],
   "source": [
    "print(\"x is y :\", x is y)"
   ]
  },
  {
   "cell_type": "code",
   "execution_count": 40,
   "metadata": {},
   "outputs": [
    {
     "name": "stdout",
     "output_type": "stream",
     "text": [
      "x is not y : True\n"
     ]
    }
   ],
   "source": [
    "print(\"x is not y :\", x is not y)"
   ]
  },
  {
   "cell_type": "markdown",
   "metadata": {},
   "source": [
    "<h5>7.7. Đổi tiền với các mệnh giá: 500000, 200000, 100000, 50000</h5>\n",
    "<p>Yêu cầu: Viết chương trình nhập vào số tiền muốn đổi, đổi ra các số tờ mệnh giá và xuất kết quả như sau: </p>\n",
    "<pre>\n",
    "        So tien muon doi: 1375000\n",
    "        So to 500000: 2\n",
    "        So to 200000: 6\n",
    "        So to 100000: 13\n",
    "        So to 50000: 27\n",
    "        So tien con lai: 25000\n",
    "</pre>"
   ]
  },
  {
   "cell_type": "code",
   "execution_count": 41,
   "metadata": {},
   "outputs": [
    {
     "name": "stdout",
     "output_type": "stream",
     "text": [
      "So tien muon doi: 1375000\n",
      "So to 500000: 2\n",
      "So to 200000: 6\n",
      "So to 100000: 13\n",
      "So to 50000: 27\n",
      "So tien con lai: 25000\n"
     ]
    }
   ],
   "source": [
    "tien_muon_doi = int(input(\"Nhap so tien muon doi: \"))\n",
    "print(f\"So tien muon doi: {tien_muon_doi}\")\n",
    "so_to_1 = tien_muon_doi//500000\n",
    "tien_con_lai = tien_muon_doi%500000\n",
    "print(f\"So to 500000: {so_to_1}\")\n",
    "so_to_2 = tien_muon_doi//200000\n",
    "tien_con_lai = tien_muon_doi%200000\n",
    "print(f\"So to 200000: {so_to_2}\")\n",
    "so_to_3 = tien_muon_doi//100000\n",
    "tien_con_lai = tien_muon_doi%100000\n",
    "print(f\"So to 100000: {so_to_3}\")\n",
    "so_to_4 = tien_muon_doi//50000\n",
    "tien_con_lai = tien_muon_doi%50000\n",
    "print(f\"So to 50000: {so_to_4}\")\n",
    "print(f\"So tien con lai: {tien_con_lai}\")"
   ]
  }
 ],
 "metadata": {
  "kernelspec": {
   "display_name": "Python 3.10.9 ('base')",
   "language": "python",
   "name": "python3"
  },
  "language_info": {
   "codemirror_mode": {
    "name": "ipython",
    "version": 3
   },
   "file_extension": ".py",
   "mimetype": "text/x-python",
   "name": "python",
   "nbconvert_exporter": "python",
   "pygments_lexer": "ipython3",
   "version": "3.10.9"
  },
  "orig_nbformat": 4,
  "vscode": {
   "interpreter": {
    "hash": "2043299c89c8cd0b4d1a6f5cf4529bd58e6a4e0fe3181a25e0d328c821cdc5c5"
   }
  }
 },
 "nbformat": 4,
 "nbformat_minor": 2
}
